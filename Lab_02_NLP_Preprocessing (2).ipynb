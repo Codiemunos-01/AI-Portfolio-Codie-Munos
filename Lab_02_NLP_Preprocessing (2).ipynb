{
  "cells": [
    {
      "cell_type": "markdown",
      "metadata": {
        "id": "97QBHyofeV98"
      },
      "source": [
        "# Lab 02: Basic NLP Preprocessing Techniques\n",
        "\n",
        "**Course:** ITAI 2373 - Natural Language Processing  \n",
        "**Module:** 02 - Text Preprocessing  \n",
        "**Duration:** 2-3 hours  \n",
        "**Student Name:** __Codie Munos______________  \n",
        "**Date:** __06/08/2025_____________\n",
        "\n",
        "---\n",
        "\n",
        "## 🎯 Learning Objectives\n",
        "\n",
        "By completing this lab, you will:\n",
        "1. Understand the critical role of preprocessing in NLP pipelines\n",
        "2. Master fundamental text preprocessing techniques\n",
        "3. Compare different libraries and their approaches\n",
        "4. Analyze the effects of preprocessing on text data\n",
        "5. Build a complete preprocessing pipeline\n",
        "6. Load and work with different types of text datasets"
      ]
    },
    {
      "cell_type": "markdown",
      "metadata": {
        "id": "_v-L6J3seV99"
      },
      "source": [
        "## 📖 Introduction to NLP Preprocessing\n",
        "\n",
        "Natural Language Processing (NLP) preprocessing refers to the initial steps taken to clean and transform raw text data into a format that's more suitable for analysis by machine learning algorithms.\n",
        "\n",
        "### Why is preprocessing crucial?\n",
        "\n",
        "1. **Standardization:** Ensures consistent text format across your dataset\n",
        "2. **Noise Reduction:** Removes irrelevant information that could confuse algorithms\n",
        "3. **Complexity Reduction:** Simplifies text to focus on meaningful patterns\n",
        "4. **Performance Enhancement:** Improves the efficiency and accuracy of downstream tasks\n",
        "\n",
        "### Real-world Impact\n",
        "Consider searching for \"running shoes\" vs \"Running Shoes!\" - without preprocessing, these might be treated as completely different queries. Preprocessing ensures they're recognized as equivalent."
      ]
    },
    {
      "cell_type": "markdown",
      "metadata": {
        "id": "B1AajM1neV99"
      },
      "source": [
        "### 🤔 Conceptual Question 1\n",
        "**Before we start coding, think about your daily interactions with text processing systems (search engines, chatbots, translation apps). What challenges do you think these systems face when processing human language? List at least 3 specific challenges and explain why each is problematic.**\n",
        "\n",
        "*Double-click this cell to write your answer:*\n",
        "\n",
        "**Challenge 1:** Translation apps do not always guve the best meaning for certain words. For example, some English words do not translate to the meaning intended when trying to get a Spanish translation. Translation apps focus more on proper dialect while most human conversations do not follow the same rules. This causes issue when trying to have a real life conversation witht the help of translation.\n",
        "\n",
        "**Challenge 2:** Search engines have the ability to process human language, but sometimes does not understand the context of what is being typed. They require a bit more direction on what specifically is being asked. For example, googling certain locations for food will pop up information from all over, so it promts to share location in order to get more specific information. This can create issues when location cannot be shared.\n",
        "\n",
        "**Challenge 3:** Chatbots summarize a lot of sources to come up with a few answers. It is usefull for needing to filter through many sources with short descriptions of what they offer. Though there is a lot of good use for it, unfortunately it does not always give the exact answer that you are looking for. I believe it has so many different options to give as a reply, therefore you have to ask a few follow up questions to get a deeper answer.\n",
        "\n",
        "---"
      ]
    },
    {
      "cell_type": "markdown",
      "metadata": {
        "id": "pXDC1YX1eV99"
      },
      "source": [
        "## 🛠️ Part 1: Environment Setup\n",
        "\n",
        "We'll be working with two major NLP libraries:\n",
        "- **NLTK (Natural Language Toolkit):** Comprehensive NLP library with extensive resources\n",
        "- **spaCy:** Industrial-strength NLP with pre-trained models\n",
        "\n",
        "**⚠️ Note:** Installation might take 2-3 minutes to complete."
      ]
    },
    {
      "cell_type": "code",
      "execution_count": null,
      "metadata": {
        "id": "IjSAdym1eV99",
        "colab": {
          "base_uri": "https://localhost:8080/"
        },
        "outputId": "df8add12-1169-4b6a-9640-e5e1933b857b"
      },
      "outputs": [
        {
          "output_type": "stream",
          "name": "stdout",
          "text": [
            "🔧 Installing NLP libraries...\n",
            "Collecting en-core-web-sm==3.8.0\n",
            "  Downloading https://github.com/explosion/spacy-models/releases/download/en_core_web_sm-3.8.0/en_core_web_sm-3.8.0-py3-none-any.whl (12.8 MB)\n",
            "\u001b[2K     \u001b[90m━━━━━━━━━━━━━━━━━━━━━━━━━━━━━━━━━━━━━━━━\u001b[0m \u001b[32m12.8/12.8 MB\u001b[0m \u001b[31m56.1 MB/s\u001b[0m eta \u001b[36m0:00:00\u001b[0m\n",
            "\u001b[?25h\u001b[38;5;2m✔ Download and installation successful\u001b[0m\n",
            "You can now load the package via spacy.load('en_core_web_sm')\n",
            "\u001b[38;5;3m⚠ Restart to reload dependencies\u001b[0m\n",
            "If you are in a Jupyter or Colab notebook, you may need to restart Python in\n",
            "order to load all the package's dependencies. You can do this by selecting the\n",
            "'Restart kernel' or 'Restart runtime' option.\n",
            "✅ Installation complete!\n"
          ]
        }
      ],
      "source": [
        "# Step 1: Install Required Libraries\n",
        "print(\"🔧 Installing NLP libraries...\")\n",
        "\n",
        "!pip install -q nltk spacy\n",
        "!python -m spacy download en_core_web_sm\n",
        "\n",
        "print(\"✅ Installation complete!\")"
      ]
    },
    {
      "cell_type": "markdown",
      "metadata": {
        "id": "u0qYPPfkeV9-"
      },
      "source": [
        "### 🤔 Conceptual Question 2\n",
        "**Why do you think we need to install a separate language model (en_core_web_sm) for spaCy? What components might this model contain that help with text processing? Think about what information a computer needs to understand English text.**\n",
        "\n",
        "I think we need to install the separate language because SpaCy does not fully comprehend human language on its own. It is more of the foundation for the language model to build upon. The model is able to breakdown context, definitions, and form a relationship between words which helps with text processing. It can do this by the data packages being downloaded that include tokenization, stop word removal, lemmatization, and POS tagging."
      ]
    },
    {
      "cell_type": "code",
      "execution_count": null,
      "metadata": {
        "id": "uqponRiceV9-",
        "colab": {
          "base_uri": "https://localhost:8080/"
        },
        "outputId": "61a2308a-6fd3-44ee-f8aa-710d8f03198a"
      },
      "outputs": [
        {
          "output_type": "stream",
          "name": "stdout",
          "text": [
            "📦 Downloading NLTK data packages...\n"
          ]
        },
        {
          "output_type": "stream",
          "name": "stderr",
          "text": [
            "[nltk_data] Downloading package punkt to /root/nltk_data...\n",
            "[nltk_data]   Package punkt is already up-to-date!\n",
            "[nltk_data] Downloading package stopwords to /root/nltk_data...\n",
            "[nltk_data]   Package stopwords is already up-to-date!\n",
            "[nltk_data] Downloading package wordnet to /root/nltk_data...\n",
            "[nltk_data]   Package wordnet is already up-to-date!\n",
            "[nltk_data] Downloading package averaged_perceptron_tagger to\n",
            "[nltk_data]     /root/nltk_data...\n",
            "[nltk_data]   Package averaged_perceptron_tagger is already up-to-\n",
            "[nltk_data]       date!\n",
            "[nltk_data] Downloading package punkt_tab to /root/nltk_data...\n"
          ]
        },
        {
          "output_type": "stream",
          "name": "stdout",
          "text": [
            "\n",
            "✅ All imports and downloads completed!\n"
          ]
        },
        {
          "output_type": "stream",
          "name": "stderr",
          "text": [
            "[nltk_data]   Unzipping tokenizers/punkt_tab.zip.\n"
          ]
        }
      ],
      "source": [
        "# Step 2: Import Libraries and Download NLTK Data\n",
        "import nltk\n",
        "import spacy\n",
        "import string\n",
        "import re\n",
        "from collections import Counter\n",
        "\n",
        "# Download essential NLTK data\n",
        "print(\"📦 Downloading NLTK data packages...\")\n",
        "nltk.download('punkt')      # For tokenization\n",
        "nltk.download('stopwords')  # For stop word removal\n",
        "nltk.download('wordnet')    # For lemmatization\n",
        "nltk.download('averaged_perceptron_tagger')  # For POS tagging\n",
        "nltk.download('punkt_tab')\n",
        "\n",
        "print(\"\\n✅ All imports and downloads completed!\")"
      ]
    },
    {
      "cell_type": "markdown",
      "metadata": {
        "id": "TQye-Ye2eV9-"
      },
      "source": [
        "## 📂 Part 2: Sample Text Data\n",
        "\n",
        "We'll work with different types of text to understand how preprocessing affects various text styles:\n",
        "- Simple text\n",
        "- Academic text (with citations, URLs)\n",
        "- Social media text (with emojis, hashtags)\n",
        "- News text (formal writing)\n",
        "- Product reviews (informal, ratings)"
      ]
    },
    {
      "cell_type": "code",
      "execution_count": null,
      "metadata": {
        "id": "QNF6oBpFeV9-",
        "colab": {
          "base_uri": "https://localhost:8080/"
        },
        "outputId": "cf21d4c0-650f-44cb-f8af-fadf05c9b06f"
      },
      "outputs": [
        {
          "output_type": "stream",
          "name": "stdout",
          "text": [
            "📄 Sample texts loaded successfully!\n",
            "\n",
            "🏷️ Simple: Natural Language Processing is a fascinating field of AI. It's amazing!\n",
            "\n",
            "🏷️ Academic: Dr. Smith's research on machine-learning algorithms is groundbreaking!\n",
            "She publi...\n",
            "\n",
            "🏷️ Social Media: OMG! Just tried the new coffee shop ☕️ SO GOOD!!! Highly recommend 👍 #coffee #yu...\n",
            "\n",
            "🏷️ News: The stock market experienced significant volatility today, with tech stocks lead...\n",
            "\n",
            "🏷️ Product Review: This laptop is absolutely fantastic! I've been using it for 6 months and it's st...\n"
          ]
        }
      ],
      "source": [
        "# Step 3: Load Sample Texts\n",
        "simple_text = \"Natural Language Processing is a fascinating field of AI. It's amazing!\"\n",
        "\n",
        "academic_text = \"\"\"\n",
        "Dr. Smith's research on machine-learning algorithms is groundbreaking!\n",
        "She published 3 papers in 2023, focusing on deep neural networks (DNNs).\n",
        "The results were amazing - accuracy improved by 15.7%!\n",
        "\"This is revolutionary,\" said Prof. Johnson.\n",
        "Visit https://example.com for more info. #NLP #AI @university\n",
        "\"\"\"\n",
        "\n",
        "social_text = \"OMG! Just tried the new coffee shop ☕️ SO GOOD!!! Highly recommend 👍 #coffee #yum 😍\"\n",
        "\n",
        "news_text = \"\"\"\n",
        "The stock market experienced significant volatility today, with tech stocks leading the decline.\n",
        "Apple Inc. (AAPL) dropped 3.2%, while Microsoft Corp. fell 2.8%.\n",
        "\"We're seeing a rotation out of growth stocks,\" said analyst Jane Doe from XYZ Capital.\n",
        "\"\"\"\n",
        "\n",
        "review_text = \"\"\"\n",
        "This laptop is absolutely fantastic! I've been using it for 6 months and it's still super fast.\n",
        "The battery life is incredible - lasts 8-10 hours easily.\n",
        "Only complaint: the keyboard could be better. Overall rating: 4.5/5 stars.\n",
        "\"\"\"\n",
        "\n",
        "# Store all texts\n",
        "sample_texts = {\n",
        "    \"Simple\": simple_text,\n",
        "    \"Academic\": academic_text.strip(),\n",
        "    \"Social Media\": social_text,\n",
        "    \"News\": news_text.strip(),\n",
        "    \"Product Review\": review_text.strip()\n",
        "}\n",
        "\n",
        "print(\"📄 Sample texts loaded successfully!\")\n",
        "for name, text in sample_texts.items():\n",
        "    preview = text[:80] + \"...\" if len(text) > 80 else text\n",
        "    print(f\"\\n🏷️ {name}: {preview}\")"
      ]
    },
    {
      "cell_type": "markdown",
      "metadata": {
        "id": "RBOSIGXCeV9-"
      },
      "source": [
        "### 🤔 Conceptual Question 3\n",
        "**Looking at the different text types we've loaded, what preprocessing challenges do you anticipate for each type? For each text type below, identify at least 2 specific preprocessing challenges and explain why they might be problematic for NLP analysis.**\n",
        "\n",
        "*Double-click this cell to write your answer:*\n",
        "\n",
        "**Simple text challenges:**\n",
        "1. I antitipate that there will be preprocessing errors such as tokenization complications. While using two or more words to describe one idea, the interpretation can be wrong due to the simple text not giving more context.\n",
        "\n",
        "2. Another challenge I see happening involve words needing to be captitalized in certain text, while in others needing to be left lowercase. An example being \"sergeant\" being used as a common noun and remaining lowercased. While if \"Sergeant\" is followed with a name, then it becomes a capitalized word. This can become problematic whenver there are many rules in the human language to follow.\n",
        "\n",
        "**Academic text challenges:**\n",
        "1. Academic text usually has more advanced language used. The format is different along with the content included. Even in different areas of study, the format may be similar along with the words, but the context can be regarding an entirely different subject. This is problematic for NLP analysis as it may need more direction to get the results desired.\n",
        "\n",
        "2. These text also include citations which can become tricky whenever you are tyoing a paper and it autocorrects to something that seems more gramatically correct. This makes the attention to detail important whenever writing any type of paper on a word processor.\n",
        "\n",
        "**Social media text challenges:**\n",
        "1. There are many forms of communication on social media, including hashtags, emojis, slang, videos and more. The example above in \"Load Sample Text\" shows \"OMG\" which makes the text processing unreliable. Along with the continuous use of capital letters in the sentence which can also disrupt text processing abilities.\n",
        "2. The example above also uses hashtags and emojis which are not included in the traditional text category. It can be problematic whenever te model is trying to process it as something important or ignorable.\n",
        "\n",
        "**News text challenges:**\n",
        "1. News text can pose challenges whenever the news topic becomes worldwide knowledge. There can be many different articles in different languages which makes reporting on certain topics a bit harder. It can be an article being translated via an online translator and the model may not give the correct translation. This can lead to misinformation being reported on worldwide.\n",
        "2. When searching for specific news articles, it can be hard to find the right one due to misleading titles. The use of the titles puts that website into a generalized category of what seems similar. It is hard for the models to filter out past the plain text due to it not being aware of the click bait mentality humans have.\n",
        "\n",
        "**Product review challenges:**\n",
        "1. Reviews online are sketchy due to the inability to always differentiate a review completed by a human versus one that was made by bots. The lack of ability to filter them out is due to NLP not seeing the two as different. This can lead to a problematic experience for customers purchasing based on written online reviews.\n",
        "\n",
        "2. There is a struggle for NLP to recognize words that have been created over the past few years in the slang department. Sometimes to relate to more people on social media, there is slang used in reviews to make a connection to another reader. It shows authenticity to humans while still making it difficult for the NLP model to understand.\n",
        "\n",
        "---"
      ]
    },
    {
      "cell_type": "markdown",
      "metadata": {
        "id": "JLLnDF9YeV9-"
      },
      "source": [
        "## 🔤 Part 3: Tokenization\n",
        "\n",
        "### What is Tokenization?\n",
        "Tokenization is the process of breaking down text into smaller, meaningful units called **tokens**. These tokens are typically words, but can also be sentences, characters, or subwords.\n",
        "\n",
        "### Why is it Important?\n",
        "- Most NLP algorithms work with individual tokens, not entire texts\n",
        "- It's the foundation for all subsequent preprocessing steps\n",
        "- Different tokenization strategies can significantly impact results\n",
        "\n",
        "### Common Challenges:\n",
        "- **Contractions:** \"don't\" → \"do\" + \"n't\" or \"don't\"?\n",
        "- **Punctuation:** Keep with words or separate?\n",
        "- **Special characters:** How to handle @, #, URLs?"
      ]
    },
    {
      "cell_type": "code",
      "execution_count": null,
      "metadata": {
        "id": "s3T8WpUheV9-",
        "colab": {
          "base_uri": "https://localhost:8080/"
        },
        "outputId": "7477f031-42de-494b-ade5-974d593ea2dc"
      },
      "outputs": [
        {
          "output_type": "stream",
          "name": "stdout",
          "text": [
            "🔍 NLTK Tokenization Results\n",
            "========================================\n",
            "Original: Natural Language Processing is a fascinating field of AI. It's amazing!\n",
            "\n",
            "Word tokens: ['Natural', 'Language', 'Processing', 'is', 'a', 'fascinating', 'field', 'of', 'AI', '.', 'It', \"'s\", 'amazing', '!']\n",
            "Number of tokens: 14\n",
            "\n",
            "Sentences: ['Natural Language Processing is a fascinating field of AI.', \"It's amazing!\"]\n",
            "Number of sentences: 2\n"
          ]
        }
      ],
      "source": [
        "# Step 4: Tokenization with NLTK\n",
        "from nltk.tokenize import word_tokenize, sent_tokenize\n",
        "\n",
        "# Test on simple text\n",
        "print(\"🔍 NLTK Tokenization Results\")\n",
        "print(\"=\" * 40)\n",
        "print(f\"Original: {simple_text}\")\n",
        "\n",
        "# Word tokenization\n",
        "nltk_tokens = word_tokenize(simple_text)\n",
        "print(f\"\\nWord tokens: {nltk_tokens}\")\n",
        "print(f\"Number of tokens: {len(nltk_tokens)}\")\n",
        "\n",
        "# Sentence tokenization\n",
        "sentences = sent_tokenize(simple_text)\n",
        "print(f\"\\nSentences: {sentences}\")\n",
        "print(f\"Number of sentences: {len(sentences)}\")"
      ]
    },
    {
      "cell_type": "markdown",
      "metadata": {
        "id": "8Wlre1ymeV9-"
      },
      "source": [
        "### 🤔 Conceptual Question 4\n",
        "**Examine the NLTK tokenization results above. How did NLTK handle the contraction \"It's\"? What happened to the punctuation marks? Do you think this approach is appropriate for all NLP tasks? Explain your reasoning.**\n",
        "\n",
        "*Double-click this cell to write your answer:*\n",
        "\n",
        "**How \"It's\" was handled:** \"it's\" was not handled well due to the \"punkt\" library not being introduced.\n",
        "\n",
        "**Punctuation treatment:** It split the punctuation into different tokens.\n",
        "\n",
        "**Appropriateness for different tasks:** Depending on the task, the right approach varies. For speech to text situations, it might be best for the tokenization to include interpretaion as one such as \"it's\" rather in sentiment analysis, it is better to keep them separate such as \"it\", \"'s\".\n",
        "\n",
        "---"
      ]
    },
    {
      "cell_type": "code",
      "execution_count": null,
      "metadata": {
        "id": "TQKNF-yceV9-",
        "colab": {
          "base_uri": "https://localhost:8080/"
        },
        "outputId": "cf457ba4-a247-46dd-fef5-32d58572603b"
      },
      "outputs": [
        {
          "output_type": "stream",
          "name": "stdout",
          "text": [
            "🔍 spaCy Tokenization Results\n",
            "========================================\n",
            "Original: Natural Language Processing is a fascinating field of AI. It's amazing!\n",
            "\n",
            "Word tokens: ['Natural', 'Language', 'Processing', 'is', 'a', 'fascinating', 'field', 'of', 'AI', '.', 'It', \"'s\", 'amazing', '!']\n",
            "Number of tokens: 14\n",
            "\n",
            "🔬 Detailed Token Analysis:\n",
            "Token        POS      Lemma        Is Alpha Is Stop \n",
            "--------------------------------------------------\n",
            "Natural      PROPN    Natural      1        0       \n",
            "Language     PROPN    Language     1        0       \n",
            "Processing   NOUN     processing   1        0       \n",
            "is           AUX      be           1        1       \n",
            "a            DET      a            1        1       \n",
            "fascinating  ADJ      fascinating  1        0       \n",
            "field        NOUN     field        1        0       \n",
            "of           ADP      of           1        1       \n",
            "AI           PROPN    AI           1        0       \n",
            ".            PUNCT    .            0        0       \n",
            "It           PRON     it           1        1       \n",
            "'s           AUX      be           0        1       \n",
            "amazing      ADJ      amazing      1        0       \n",
            "!            PUNCT    !            0        0       \n"
          ]
        }
      ],
      "source": [
        "# Step 5: Tokenization with spaCy\n",
        "nlp = spacy.load('en_core_web_sm')\n",
        "\n",
        "print(\"🔍 spaCy Tokenization Results\")\n",
        "print(\"=\" * 40)\n",
        "print(f\"Original: {simple_text}\")\n",
        "\n",
        "# Process with spaCy\n",
        "doc = nlp(simple_text)\n",
        "\n",
        "# Extract tokens\n",
        "spacy_tokens = [token.text for token in doc]\n",
        "print(f\"\\nWord tokens: {spacy_tokens}\")\n",
        "print(f\"Number of tokens: {len(spacy_tokens)}\")\n",
        "\n",
        "# Show detailed token information\n",
        "print(f\"\\n🔬 Detailed Token Analysis:\")\n",
        "print(f\"{'Token':<12} {'POS':<8} {'Lemma':<12} {'Is Alpha':<8} {'Is Stop':<8}\")\n",
        "print(\"-\" * 50)\n",
        "for token in doc:\n",
        "    print(f\"{token.text:<12} {token.pos_:<8} {token.lemma_:<12} {token.is_alpha:<8} {token.is_stop:<8}\")"
      ]
    },
    {
      "cell_type": "markdown",
      "metadata": {
        "id": "HCrQbVHceV9_"
      },
      "source": [
        "### 🤔 Conceptual Question 5\n",
        "**Compare the NLTK and spaCy tokenization results. What differences do you notice? Which approach do you think would be better for different NLP tasks? Consider specific examples like sentiment analysis vs. information extraction.**\n",
        "\n",
        "*Double-click this cell to write your answer:*\n",
        "\n",
        "**Key differences observed:** SpaCy calls upon the pretrained NLP library which helps with processing. It also keeps \"it's\" as one token after being executed. It also appears to utilize lemmatization rather than the stemming approach that NLTK uses. I also see that the punctuation is not separated into individual tokens in SpaCy.\n",
        "\n",
        "**Better for sentiment analysis:** SpaCy is better for sentiment analysis due to keeping tokens together.\n",
        "\n",
        "**Better for information extraction:** SpaCy is also better for information extraction.\n",
        "\n",
        "**Overall assessment:** NLTK is good for certain uses that require less gramatical knowledge. SpaCy is better at keeping the tokens together that need to remain intact to deliver the message in the intended way.\n",
        "\n",
        "---"
      ]
    },
    {
      "cell_type": "code",
      "execution_count": null,
      "metadata": {
        "id": "kCVNmEgseV9_",
        "colab": {
          "base_uri": "https://localhost:8080/"
        },
        "outputId": "6b102e91-10c0-4dc3-8d1c-531f52223d76"
      },
      "outputs": [
        {
          "output_type": "stream",
          "name": "stdout",
          "text": [
            "🧪 Testing on Social Media Text\n",
            "========================================\n",
            "Original: OMG! Just tried the new coffee shop ☕️ SO GOOD!!! Highly recommend 👍 #coffee #yum 😍\n",
            "\n",
            "NLTK tokens: ['OMG', '!', 'Just', 'tried', 'the', 'new', 'coffee', 'shop', '☕️', 'SO', 'GOOD', '!', '!', '!', 'Highly', 'recommend', '👍', '#', 'coffee', '#', 'yum', '😍']\n",
            "spaCy tokens: ['OMG', '!', 'Just', 'tried', 'the', 'new', 'coffee', 'shop', '☕', '️', 'SO', 'GOOD', '!', '!', '!', 'Highly', 'recommend', '👍', '#', 'coffee', '#', 'yum', '😍']\n",
            "\n",
            "📊 Comparison:\n",
            "NLTK token count: 22\n",
            "spaCy token count: 23\n"
          ]
        }
      ],
      "source": [
        "# Step 6: Test Tokenization on Complex Text\n",
        "print(\"🧪 Testing on Social Media Text\")\n",
        "print(\"=\" * 40)\n",
        "print(f\"Original: {social_text}\")\n",
        "\n",
        "# NLTK approach\n",
        "social_nltk_tokens = word_tokenize(social_text)\n",
        "print(f\"\\nNLTK tokens: {social_nltk_tokens}\")\n",
        "\n",
        "# spaCy approach\n",
        "social_doc = nlp(social_text)\n",
        "social_spacy_tokens = [token.text for token in social_doc]\n",
        "print(f\"spaCy tokens: {social_spacy_tokens}\")\n",
        "\n",
        "print(f\"\\n📊 Comparison:\")\n",
        "print(f\"NLTK token count: {len(social_nltk_tokens)}\")\n",
        "print(f\"spaCy token count: {len(social_spacy_tokens)}\")"
      ]
    },
    {
      "cell_type": "markdown",
      "metadata": {
        "id": "rOYfP6KqeV9_"
      },
      "source": [
        "### 🤔 Conceptual Question 6\n",
        "**Looking at how the libraries handled social media text (emojis, hashtags), which library seems more robust for handling \"messy\" real-world text? What specific advantages do you notice? How might this impact a real-world application like social media sentiment analysis?**\n",
        "\n",
        "*Double-click this cell to write your answer:*\n",
        "\n",
        "**More robust library:** SpaCy is better off handling \"messy\" text.\n",
        "\n",
        "**Specific advantages:** The advantages include SpaCy as keeping hashtags intact with what follows rather than separating them the way that NTLK does. Another advantage is the use of the pre trained model that SpaCy uses.\n",
        "\n",
        "**Impact on sentiment analysis:** The impact is that SpaCy delivers better outputs by having the deeper connection to the meaning of what is being said. It makes the experience feel more natural and allows for the emotions to stay with the words rather than becomming chopped into different parts of a sentence.\n",
        "\n",
        "---"
      ]
    },
    {
      "cell_type": "markdown",
      "metadata": {
        "id": "tkfnnYyweV9_"
      },
      "source": [
        "## 🛑 Part 4: Stop Words Removal\n",
        "\n",
        "### What are Stop Words?\n",
        "Stop words are common words that appear frequently in a language but typically don't carry much meaningful information about the content. Examples include \"the\", \"is\", \"at\", \"which\", \"on\", etc.\n",
        "\n",
        "### Why Remove Stop Words?\n",
        "1. **Reduce noise** in the data\n",
        "2. **Improve efficiency** by reducing vocabulary size\n",
        "3. **Focus on content words** that carry semantic meaning\n",
        "\n",
        "### When NOT to Remove Stop Words?\n",
        "- **Sentiment analysis:** \"not good\" vs \"good\" - the \"not\" is crucial!\n",
        "- **Question answering:** \"What is the capital?\" - \"what\" and \"is\" provide context"
      ]
    },
    {
      "cell_type": "code",
      "execution_count": null,
      "metadata": {
        "id": "uWwuapZ0eV9_",
        "colab": {
          "base_uri": "https://localhost:8080/"
        },
        "outputId": "b848fa47-621c-436d-9af4-e8578bb096db"
      },
      "outputs": [
        {
          "output_type": "stream",
          "name": "stdout",
          "text": [
            "📊 NLTK has 198 English stop words\n",
            "First 20: ['a', 'about', 'above', 'after', 'again', 'against', 'ain', 'all', 'am', 'an', 'and', 'any', 'are', 'aren', \"aren't\", 'as', 'at', 'be', 'because', 'been']\n",
            "\n",
            "📊 spaCy has 326 English stop words\n",
            "First 20: [\"'d\", \"'ll\", \"'m\", \"'re\", \"'s\", \"'ve\", 'a', 'about', 'above', 'across', 'after', 'afterwards', 'again', 'against', 'all', 'almost', 'alone', 'along', 'already', 'also']\n",
            "\n",
            "🔍 Comparison:\n",
            "Common stop words: 123\n",
            "Only in NLTK: 75 - Examples: ['ain', 'aren', \"aren't\", 'couldn', \"couldn't\"]\n",
            "Only in spaCy: 203 - Examples: [\"'d\", \"'ll\", \"'m\", \"'re\", \"'s\"]\n"
          ]
        }
      ],
      "source": [
        "# Step 7: Explore Stop Words Lists\n",
        "from nltk.corpus import stopwords\n",
        "\n",
        "# Get NLTK English stop words\n",
        "nltk_stopwords = set(stopwords.words('english'))\n",
        "print(f\"📊 NLTK has {len(nltk_stopwords)} English stop words\")\n",
        "print(f\"First 20: {sorted(list(nltk_stopwords))[:20]}\")\n",
        "\n",
        "# Get spaCy stop words\n",
        "spacy_stopwords = nlp.Defaults.stop_words\n",
        "print(f\"\\n📊 spaCy has {len(spacy_stopwords)} English stop words\")\n",
        "print(f\"First 20: {sorted(list(spacy_stopwords))[:20]}\")\n",
        "\n",
        "# Compare the lists\n",
        "common_stopwords = nltk_stopwords.intersection(spacy_stopwords)\n",
        "nltk_only = nltk_stopwords - spacy_stopwords\n",
        "spacy_only = spacy_stopwords - nltk_stopwords\n",
        "\n",
        "print(f\"\\n🔍 Comparison:\")\n",
        "print(f\"Common stop words: {len(common_stopwords)}\")\n",
        "print(f\"Only in NLTK: {len(nltk_only)} - Examples: {sorted(list(nltk_only))[:5]}\")\n",
        "print(f\"Only in spaCy: {len(spacy_only)} - Examples: {sorted(list(spacy_only))[:5]}\")"
      ]
    },
    {
      "cell_type": "markdown",
      "metadata": {
        "id": "_4rQc88leV9_"
      },
      "source": [
        "### 🤔 Conceptual Question 7\n",
        "**Why do you think NLTK and spaCy have different stop word lists? Look at the examples of words that are only in one list - do you agree with these choices? Can you think of scenarios where these differences might significantly impact your NLP results?**\n",
        "\n",
        "*Double-click this cell to write your answer:*\n",
        "\n",
        "**Reasons for differences:** The different amount of stop words stem from SpaCy and NTLK having different goals. The SpaCy goal is to be more modernized and able to keep up with societies' current interpretations.\n",
        "\n",
        "**Agreement with choices:** The choices for the most part are the same and I agree that they are just fluff words that will not impact too many scenarious.\n",
        "\n",
        "**Scenarios where differences matter:**\n",
        "I can think of two words on here that can cause issues, those include \"any\" and \"because\". If these words are not plugged into the understanding, it can throw the whole sentence or conversation off. \"Because\" is a bridge word which starts off by explaining the result and ends by connecting via using \"because\" to jump to the how.\n",
        "---"
      ]
    },
    {
      "cell_type": "code",
      "execution_count": null,
      "metadata": {
        "id": "GrGWsVMReV9_",
        "colab": {
          "base_uri": "https://localhost:8080/"
        },
        "outputId": "65253d83-19eb-4638-a043-70c72fbc5335"
      },
      "outputs": [
        {
          "output_type": "stream",
          "name": "stdout",
          "text": [
            "🧪 NLTK Stop Word Removal\n",
            "========================================\n",
            "Original: Natural Language Processing is a fascinating field of AI. It's amazing!\n",
            "\n",
            "Original tokens (14): ['Natural', 'Language', 'Processing', 'is', 'a', 'fascinating', 'field', 'of', 'AI', '.', 'It', \"'s\", 'amazing', '!']\n",
            "After removing stop words (10): ['Natural', 'Language', 'Processing', 'fascinating', 'field', 'AI', '.', \"'s\", 'amazing', '!']\n",
            "\n",
            "Removed words: ['is', 'a', 'of', 'It']\n",
            "Vocabulary reduction: 28.6%\n"
          ]
        }
      ],
      "source": [
        "# Step 8: Remove Stop Words with NLTK\n",
        "# Test on simple text\n",
        "original_tokens = nltk_tokens  # From earlier tokenization\n",
        "filtered_tokens = [word for word in original_tokens if word.lower() not in nltk_stopwords]\n",
        "\n",
        "print(\"🧪 NLTK Stop Word Removal\")\n",
        "print(\"=\" * 40)\n",
        "print(f\"Original: {simple_text}\")\n",
        "print(f\"\\nOriginal tokens ({len(original_tokens)}): {original_tokens}\")\n",
        "print(f\"After removing stop words ({len(filtered_tokens)}): {filtered_tokens}\")\n",
        "\n",
        "# Show which words were removed\n",
        "removed_words = [word for word in original_tokens if word.lower() in nltk_stopwords]\n",
        "print(f\"\\nRemoved words: {removed_words}\")\n",
        "\n",
        "# Calculate reduction percentage\n",
        "reduction = (len(original_tokens) - len(filtered_tokens)) / len(original_tokens) * 100\n",
        "print(f\"Vocabulary reduction: {reduction:.1f}%\")"
      ]
    },
    {
      "cell_type": "code",
      "execution_count": null,
      "metadata": {
        "id": "lVuS0D-GeV9_",
        "colab": {
          "base_uri": "https://localhost:8080/"
        },
        "outputId": "f2203c79-fb94-46c8-cb7c-ed1d28c91060"
      },
      "outputs": [
        {
          "output_type": "stream",
          "name": "stdout",
          "text": [
            "🧪 spaCy Stop Word Removal\n",
            "========================================\n",
            "Original: Natural Language Processing is a fascinating field of AI. It's amazing!\n",
            "\n",
            "Original tokens (14): ['Natural', 'Language', 'Processing', 'is', 'a', 'fascinating', 'field', 'of', 'AI', '.', 'It', \"'s\", 'amazing', '!']\n",
            "After removing stop words & punctuation (7): ['Natural', 'Language', 'Processing', 'fascinating', 'field', 'AI', 'amazing']\n",
            "\n",
            "Removed words: ['is', 'a', 'of', '.', 'It', \"'s\", '!']\n",
            "Vocabulary reduction: 50.0%\n"
          ]
        }
      ],
      "source": [
        "# Step 9: Remove Stop Words with spaCy\n",
        "doc = nlp(simple_text)\n",
        "spacy_filtered = [token.text for token in doc if not token.is_stop and not token.is_punct]\n",
        "\n",
        "print(\"🧪 spaCy Stop Word Removal\")\n",
        "print(\"=\" * 40)\n",
        "print(f\"Original: {simple_text}\")\n",
        "print(f\"\\nOriginal tokens ({len(spacy_tokens)}): {spacy_tokens}\")\n",
        "print(f\"After removing stop words & punctuation ({len(spacy_filtered)}): {spacy_filtered}\")\n",
        "\n",
        "# Show which words were removed\n",
        "spacy_removed = [token.text for token in doc if token.is_stop or token.is_punct]\n",
        "print(f\"\\nRemoved words: {spacy_removed}\")\n",
        "\n",
        "# Calculate reduction percentage\n",
        "spacy_reduction = (len(spacy_tokens) - len(spacy_filtered)) / len(spacy_tokens) * 100\n",
        "print(f\"Vocabulary reduction: {spacy_reduction:.1f}%\")"
      ]
    },
    {
      "cell_type": "markdown",
      "metadata": {
        "id": "VoVxWinyeV-A"
      },
      "source": [
        "### 🤔 Conceptual Question 8\n",
        "**Compare the NLTK and spaCy stop word removal results. Which approach removed more words? Do you think removing punctuation (as spaCy did) is always a good idea? Give a specific example where keeping punctuation might be important for NLP analysis.**\n",
        "\n",
        "*Double-click this cell to write your answer:*\n",
        "\n",
        "**Which removed more:** NTLK removed more than SpaCy did.\n",
        "\n",
        "**Punctuation removal assessment:** I do not think removing punctuation all the time is a good idea. There is a lot of emotion in one character especially when trying to express tone over message.\n",
        "\n",
        "**Example where punctuation matters:** In contracts, there are a lot of formal sentences. The use of punction in these scenarios is crucial for formality.\n",
        "\n",
        "---"
      ]
    },
    {
      "cell_type": "markdown",
      "metadata": {
        "id": "KUnesyUoeV-A"
      },
      "source": [
        "## 🌱 Part 5: Lemmatization and Stemming\n",
        "\n",
        "### What is Lemmatization?\n",
        "Lemmatization reduces words to their base or dictionary form (called a **lemma**). It considers context and part of speech to ensure the result is a valid word.\n",
        "\n",
        "### What is Stemming?\n",
        "Stemming reduces words to their root form by removing suffixes. It's faster but less accurate than lemmatization.\n",
        "\n",
        "### Key Differences:\n",
        "| Aspect | Stemming | Lemmatization |\n",
        "|--------|----------|---------------|\n",
        "| Speed | Fast | Slower |\n",
        "| Accuracy | Lower | Higher |\n",
        "| Output | May be non-words | Always valid words |\n",
        "| Context | Ignores context | Considers context |\n",
        "\n",
        "### Examples:\n",
        "- **\"running\"** → Stem: \"run\", Lemma: \"run\"\n",
        "- **\"better\"** → Stem: \"better\", Lemma: \"good\"\n",
        "- **\"was\"** → Stem: \"wa\", Lemma: \"be\""
      ]
    },
    {
      "cell_type": "code",
      "execution_count": null,
      "metadata": {
        "id": "RhQlU7wGeV-A",
        "colab": {
          "base_uri": "https://localhost:8080/"
        },
        "outputId": "b0c1edd3-e620-487a-e500-a93f42a8c657"
      },
      "outputs": [
        {
          "output_type": "stream",
          "name": "stdout",
          "text": [
            "🌿 Stemming Demonstration\n",
            "==============================\n",
            "Original     Stemmed     \n",
            "-------------------------\n",
            "running      run         \n",
            "runs         run         \n",
            "ran          ran         \n",
            "better       better      \n",
            "good         good        \n",
            "best         best        \n",
            "flying       fli         \n",
            "flies        fli         \n",
            "was          wa          \n",
            "were         were        \n",
            "cats         cat         \n",
            "dogs         dog         \n",
            "\n",
            "🧪 Applied to sample text:\n",
            "Original: ['Natural', 'Language', 'Processing', 'is', 'a', 'fascinating', 'field', 'of', 'AI', 'It', 'amazing']\n",
            "Stemmed: ['natur', 'languag', 'process', 'is', 'a', 'fascin', 'field', 'of', 'ai', 'it', 'amaz']\n"
          ]
        }
      ],
      "source": [
        "# Step 10: Stemming with NLTK\n",
        "from nltk.stem import PorterStemmer\n",
        "\n",
        "stemmer = PorterStemmer()\n",
        "\n",
        "# Test words that demonstrate stemming challenges\n",
        "test_words = ['running', 'runs', 'ran', 'better', 'good', 'best', 'flying', 'flies', 'was', 'were', 'cats', 'dogs']\n",
        "\n",
        "print(\"🌿 Stemming Demonstration\")\n",
        "print(\"=\" * 30)\n",
        "print(f\"{'Original':<12} {'Stemmed':<12}\")\n",
        "print(\"-\" * 25)\n",
        "\n",
        "for word in test_words:\n",
        "    stemmed = stemmer.stem(word)\n",
        "    print(f\"{word:<12} {stemmed:<12}\")\n",
        "\n",
        "# Apply to our sample text\n",
        "sample_tokens = [token for token in nltk_tokens if token.isalpha()]\n",
        "stemmed_tokens = [stemmer.stem(token.lower()) for token in sample_tokens]\n",
        "\n",
        "print(f\"\\n🧪 Applied to sample text:\")\n",
        "print(f\"Original: {sample_tokens}\")\n",
        "print(f\"Stemmed: {stemmed_tokens}\")"
      ]
    },
    {
      "cell_type": "markdown",
      "metadata": {
        "id": "1diItfT8eV-A"
      },
      "source": [
        "### 🤔 Conceptual Question 9\n",
        "**Look at the stemming results above. Can you identify any cases where stemming produced questionable results? For example, how were \"better\" and \"good\" handled? Do you think this is problematic for NLP applications? Explain your reasoning.**\n",
        "\n",
        "*Double-click this cell to write your answer:*\n",
        "\n",
        "**Questionable results identified:**\n",
        "A few questionalble results included \"fli\", \"better\", and \"was\". \"fli and \"was\" are nonword outputs and better should have resulted in \"good\".\n",
        "**Assessment of \"better\" and \"good\":**\n",
        "\"better\" should have gave the result of \"good\" because they are similar in context.\n",
        "**Impact on NLP applications:**\n",
        "With words being cut off and others not being linked to other definition, this can cause errors in NLP applications. The translation can become inconsistent and search results can become altered by not grasping the root of different words being used that are meant for the same results.\n",
        "---"
      ]
    },
    {
      "cell_type": "code",
      "execution_count": null,
      "metadata": {
        "id": "VYhyO8jfeV-A",
        "colab": {
          "base_uri": "https://localhost:8080/"
        },
        "outputId": "31804063-1abe-4252-af21-c72365031ee4"
      },
      "outputs": [
        {
          "output_type": "stream",
          "name": "stdout",
          "text": [
            "🌱 spaCy Lemmatization Demonstration\n",
            "========================================\n",
            "Original: The researchers were studying the effects of running and swimming on better performance.\n",
            "\n",
            "Token           Lemma           POS        Explanation         \n",
            "-----------------------------------------------------------------\n",
            "The             the             DET        No change           \n",
            "researchers     researcher      NOUN       Lemmatized          \n",
            "were            be              AUX        Lemmatized          \n",
            "studying        study           VERB       Lemmatized          \n",
            "the             the             DET        No change           \n",
            "effects         effect          NOUN       Lemmatized          \n",
            "of              of              ADP        No change           \n",
            "running         run             VERB       Lemmatized          \n",
            "and             and             CCONJ      No change           \n",
            "swimming        swim            VERB       Lemmatized          \n",
            "on              on              ADP        No change           \n",
            "better          well            ADJ        Lemmatized          \n",
            "performance     performance     NOUN       No change           \n",
            "\n",
            "🔤 Lemmatized tokens (no stop words): ['researcher', 'study', 'effect', 'run', 'swim', 'well', 'performance']\n"
          ]
        }
      ],
      "source": [
        "# Step 11: Lemmatization with spaCy\n",
        "print(\"🌱 spaCy Lemmatization Demonstration\")\n",
        "print(\"=\" * 40)\n",
        "\n",
        "# Test on a complex sentence\n",
        "complex_sentence = \"The researchers were studying the effects of running and swimming on better performance.\"\n",
        "doc = nlp(complex_sentence)\n",
        "\n",
        "print(f\"Original: {complex_sentence}\")\n",
        "print(f\"\\n{'Token':<15} {'Lemma':<15} {'POS':<10} {'Explanation':<20}\")\n",
        "print(\"-\" * 65)\n",
        "\n",
        "for token in doc:\n",
        "    if token.is_alpha:\n",
        "        explanation = \"No change\" if token.text.lower() == token.lemma_ else \"Lemmatized\"\n",
        "        print(f\"{token.text:<15} {token.lemma_:<15} {token.pos_:<10} {explanation:<20}\")\n",
        "\n",
        "# Extract lemmas\n",
        "lemmas = [token.lemma_.lower() for token in doc if token.is_alpha and not token.is_stop]\n",
        "print(f\"\\n🔤 Lemmatized tokens (no stop words): {lemmas}\")"
      ]
    },
    {
      "cell_type": "code",
      "execution_count": null,
      "metadata": {
        "id": "tsCdhYHWeV-A",
        "colab": {
          "base_uri": "https://localhost:8080/"
        },
        "outputId": "df1ac3d0-139b-4bf5-b55e-c1685de3378e"
      },
      "outputs": [
        {
          "output_type": "stream",
          "name": "stdout",
          "text": [
            "⚖️ Stemming vs Lemmatization Comparison\n",
            "==================================================\n",
            "Original     Stemmed      Lemmatized  \n",
            "----------------------------------------\n",
            "better       better       well        \n",
            "running      run          run         \n",
            "studies      studi        study       \n",
            "was          wa           be          \n",
            "children     children     child       \n",
            "feet         feet         foot        \n"
          ]
        }
      ],
      "source": [
        "# Step 12: Compare Stemming vs Lemmatization\n",
        "comparison_words = ['better', 'running', 'studies', 'was', 'children', 'feet']\n",
        "\n",
        "print(\"⚖️ Stemming vs Lemmatization Comparison\")\n",
        "print(\"=\" * 50)\n",
        "print(f\"{'Original':<12} {'Stemmed':<12} {'Lemmatized':<12}\")\n",
        "print(\"-\" * 40)\n",
        "\n",
        "for word in comparison_words:\n",
        "    # Stemming\n",
        "    stemmed = stemmer.stem(word)\n",
        "\n",
        "    # Lemmatization with spaCy\n",
        "    doc = nlp(word)\n",
        "    lemmatized = doc[0].lemma_\n",
        "\n",
        "    print(f\"{word:<12} {stemmed:<12} {lemmatized:<12}\")"
      ]
    },
    {
      "cell_type": "markdown",
      "metadata": {
        "id": "jvNf3d6PeV-A"
      },
      "source": [
        "### 🤔 Conceptual Question 10\n",
        "**Compare the stemming and lemmatization results. Which approach do you think is more suitable for:**\n",
        "1. **A search engine** (where speed is crucial and you need to match variations of words)? Stemming approach is better.\n",
        "2. **A sentiment analysis system** (where accuracy and meaning preservation are important)? Lemmatization is the better option.\n",
        "3. **A real-time chatbot** (where both speed and accuracy matter)?\n",
        " Lemmatization is better for chat bots.\n",
        "**Explain your reasoning for each choice.**\n",
        "\n",
        "*Double-click this cell to write your answer:*\n",
        "\n",
        "**1. Search engine:**\n",
        "I think that stemming would work better due to it searching a larger range of sites that are similar but not exact to the word being used.\n",
        "**2. Sentiment analysis:**\n",
        "Lemmatization is more consistent and accurate while stemming can be unreliable for definitions.\n",
        "\n",
        "**3. Real-time chatbot:**\n",
        "Lemmatization is not as fast as stemming, but it does focus more on word relationships which can lead to a better answer. It depends as well as what the chat bot is being used for. Lemmatization works better for customer sevice situations and other similar duties.\n",
        "---"
      ]
    },
    {
      "cell_type": "markdown",
      "metadata": {
        "id": "tep2Tdm4eV-A"
      },
      "source": [
        "## 🧹 Part 6: Text Cleaning and Normalization\n",
        "\n",
        "### What is Text Cleaning?\n",
        "Text cleaning involves removing or standardizing elements that might interfere with analysis:\n",
        "- **Case normalization** (converting to lowercase)\n",
        "- **Punctuation removal**\n",
        "- **Number handling** (remove, replace, or normalize)\n",
        "- **Special character handling** (URLs, emails, mentions)\n",
        "- **Whitespace normalization**\n",
        "\n",
        "### Why is it Important?\n",
        "- Ensures consistency across your dataset\n",
        "- Reduces vocabulary size\n",
        "- Improves model performance\n",
        "- Handles edge cases in real-world data"
      ]
    },
    {
      "cell_type": "code",
      "execution_count": null,
      "metadata": {
        "id": "lmo2dAXkeV-A",
        "colab": {
          "base_uri": "https://localhost:8080/"
        },
        "outputId": "96e50da0-f025-41e6-fb13-348c3b0927af"
      },
      "outputs": [
        {
          "output_type": "stream",
          "name": "stdout",
          "text": [
            "🧹 Basic Text Cleaning\n",
            "==============================\n",
            "Original: '   Hello WORLD!!! This has 123 numbers and   extra spaces.   '\n",
            "Cleaned: 'hello world this has numbers and extra spaces'\n",
            "Length reduction: 26.2%\n"
          ]
        }
      ],
      "source": [
        "# Step 13: Basic Text Cleaning\n",
        "def basic_clean_text(text):\n",
        "    \"\"\"Apply basic text cleaning operations\"\"\"\n",
        "    # Convert to lowercase\n",
        "    text = text.lower()\n",
        "\n",
        "    # Remove extra whitespace\n",
        "    text = re.sub(r'\\s+', ' ', text).strip()\n",
        "\n",
        "    # Remove punctuation\n",
        "    text = text.translate(str.maketrans('', '', string.punctuation))\n",
        "\n",
        "    # Remove numbers\n",
        "    text = re.sub(r'\\d+', '', text)\n",
        "\n",
        "    # Remove extra spaces again\n",
        "    text = re.sub(r'\\s+', ' ', text).strip()\n",
        "\n",
        "    return text\n",
        "\n",
        "# Test basic cleaning\n",
        "test_text = \"   Hello WORLD!!! This has 123 numbers and   extra spaces.   \"\n",
        "cleaned = basic_clean_text(test_text)\n",
        "\n",
        "print(\"🧹 Basic Text Cleaning\")\n",
        "print(\"=\" * 30)\n",
        "print(f\"Original: '{test_text}'\")\n",
        "print(f\"Cleaned: '{cleaned}'\")\n",
        "print(f\"Length reduction: {(len(test_text) - len(cleaned))/len(test_text)*100:.1f}%\")"
      ]
    },
    {
      "cell_type": "code",
      "execution_count": null,
      "metadata": {
        "id": "FxHKo_2ceV-A",
        "colab": {
          "base_uri": "https://localhost:8080/"
        },
        "outputId": "64ce5c55-0e25-4a72-e8cd-56ef264f6654"
      },
      "outputs": [
        {
          "output_type": "stream",
          "name": "stdout",
          "text": [
            "🚀 Advanced Cleaning on Social Media Text\n",
            "=============================================\n",
            "Original: OMG! Just tried the new coffee shop ☕️ SO GOOD!!! Highly recommend 👍 #coffee #yum 😍\n",
            "Cleaned: omg! just tried the new coffee shop ☕️ so good!!! highly recommend coffee yum\n",
            "Length reduction: 7.2%\n"
          ]
        }
      ],
      "source": [
        "# Step 14: Advanced Cleaning for Social Media\n",
        "def advanced_clean_text(text):\n",
        "    \"\"\"Apply advanced cleaning for social media and web text\"\"\"\n",
        "    # Remove URLs\n",
        "    text = re.sub(r'http\\S+|www\\S+|https\\S+', '', text, flags=re.MULTILINE)\n",
        "\n",
        "    # Remove email addresses\n",
        "    text = re.sub(r'\\S+@\\S+', '', text)\n",
        "\n",
        "    # Remove mentions (@username)\n",
        "    text = re.sub(r'@\\w+', '', text)\n",
        "\n",
        "    # Convert hashtags (keep the word, remove #)\n",
        "    text = re.sub(r'#(\\w+)', r'\\1', text)\n",
        "\n",
        "    # Remove emojis (basic approach)\n",
        "    emoji_pattern = re.compile(\"[\"\n",
        "                               u\"\\U0001F600-\\U0001F64F\"  # emoticons\n",
        "                               u\"\\U0001F300-\\U0001F5FF\"  # symbols & pictographs\n",
        "                               u\"\\U0001F680-\\U0001F6FF\"  # transport & map symbols\n",
        "                               u\"\\U0001F1E0-\\U0001F1FF\"  # flags\n",
        "                               \"]+\", flags=re.UNICODE)\n",
        "    text = emoji_pattern.sub(r'', text)\n",
        "\n",
        "    # Convert to lowercase and normalize whitespace\n",
        "    text = text.lower()\n",
        "    text = re.sub(r'\\s+', ' ', text).strip()\n",
        "\n",
        "    return text\n",
        "\n",
        "# Test on social media text\n",
        "print(\"🚀 Advanced Cleaning on Social Media Text\")\n",
        "print(\"=\" * 45)\n",
        "print(f\"Original: {social_text}\")\n",
        "\n",
        "cleaned_social = advanced_clean_text(social_text)\n",
        "print(f\"Cleaned: {cleaned_social}\")\n",
        "print(f\"Length reduction: {(len(social_text) - len(cleaned_social))/len(social_text)*100:.1f}%\")"
      ]
    },
    {
      "cell_type": "markdown",
      "metadata": {
        "id": "vwtcrJMVeV-A"
      },
      "source": [
        "### 🤔 Conceptual Question 11\n",
        "**Look at the advanced cleaning results for the social media text. What information was lost during cleaning? Can you think of scenarios where removing emojis and hashtags might actually hurt your NLP application? What about scenarios where keeping them would be beneficial?**\n",
        "\n",
        "*Double-click this cell to write your answer:*\n",
        "\n",
        "**Information lost:** The first example does not remove emojis, while the second one does and it is the same for the hashtags.\n",
        "\n",
        "**Scenarios where removal hurts:**\n",
        "By removing emojis, you lose sentiniment analysis. Sometimes the words being said are not actually meant to be understood at surface level depending on how it is used. Sarcasm can be taken differently for instance and if being used with emojis, can set it apart from a different type of attitude in the text. With the removal of hashtags, and keeping of the text that follows, it can cause the sentence structure to not flow. The use of hashtags enables networking for the same type of information being shared along with promoting oneself in a certain community.\n",
        "\n",
        "**Scenarios where keeping helps:**\n",
        "Keeping hashtags and emojis help with self-expression, cross-communication with others around the world, and brand promotion. Not everyone speaks the same written language, but emojis can be used to communicate a lot when there is lack of translation.\n",
        "---"
      ]
    },
    {
      "cell_type": "markdown",
      "metadata": {
        "id": "BpzKWVy3eV-A"
      },
      "source": [
        "## 🔧 Part 7: Building a Complete Preprocessing Pipeline\n",
        "\n",
        "Now let's combine everything into a comprehensive preprocessing pipeline that you can customize based on your needs.\n",
        "\n",
        "### Pipeline Components:\n",
        "1. **Text cleaning** (basic or advanced)\n",
        "2. **Tokenization** (NLTK or spaCy)\n",
        "3. **Stop word removal** (optional)\n",
        "4. **Lemmatization/Stemming** (optional)\n",
        "5. **Additional filtering** (length, etc.)"
      ]
    },
    {
      "cell_type": "code",
      "execution_count": null,
      "metadata": {
        "id": "6XxqZCHneV-A",
        "colab": {
          "base_uri": "https://localhost:8080/"
        },
        "outputId": "e359b3bf-2186-4de0-a62b-b4fe52525d72"
      },
      "outputs": [
        {
          "output_type": "stream",
          "name": "stdout",
          "text": [
            "🔧 Preprocessing Pipeline Created!\n",
            "✅ Ready to test different configurations.\n"
          ]
        }
      ],
      "source": [
        "# Step 15: Complete Preprocessing Pipeline\n",
        "def preprocess_text(text,\n",
        "                   clean_level='basic',     # 'basic' or 'advanced'\n",
        "                   remove_stopwords=True,\n",
        "                   use_lemmatization=True,\n",
        "                   use_stemming=False,\n",
        "                   min_length=2):\n",
        "    \"\"\"\n",
        "    Complete text preprocessing pipeline\n",
        "    \"\"\"\n",
        "    # Step 1: Clean text\n",
        "    if clean_level == 'basic':\n",
        "        cleaned_text = basic_clean_text(text)\n",
        "    else:\n",
        "        cleaned_text = advanced_clean_text(text)\n",
        "\n",
        "    # Step 2: Tokenize\n",
        "    if use_lemmatization:\n",
        "        # Use spaCy for lemmatization\n",
        "        doc = nlp(cleaned_text)\n",
        "        tokens = [token.lemma_.lower() for token in doc if token.is_alpha]\n",
        "    else:\n",
        "        # Use NLTK for basic tokenization\n",
        "        tokens = word_tokenize(cleaned_text)\n",
        "        tokens = [token for token in tokens if token.isalpha()]\n",
        "\n",
        "    # Step 3: Remove stop words\n",
        "    if remove_stopwords:\n",
        "        if use_lemmatization:\n",
        "            tokens = [token for token in tokens if token not in spacy_stopwords]\n",
        "        else:\n",
        "            tokens = [token.lower() for token in tokens if token.lower() not in nltk_stopwords]\n",
        "\n",
        "    # Step 4: Apply stemming if requested\n",
        "    if use_stemming and not use_lemmatization:\n",
        "        tokens = [stemmer.stem(token.lower()) for token in tokens]\n",
        "\n",
        "    # Step 5: Filter by length\n",
        "    tokens = [token for token in tokens if len(token) >= min_length]\n",
        "\n",
        "    return tokens\n",
        "\n",
        "print(\"🔧 Preprocessing Pipeline Created!\")\n",
        "print(\"✅ Ready to test different configurations.\")"
      ]
    },
    {
      "cell_type": "code",
      "execution_count": null,
      "metadata": {
        "id": "yYMlNDVceV-A",
        "colab": {
          "base_uri": "https://localhost:8080/"
        },
        "outputId": "00cc617d-7045-4f43-d903-6330ff925d29"
      },
      "outputs": [
        {
          "output_type": "stream",
          "name": "stdout",
          "text": [
            "🎯 Testing on: This laptop is absolutely fantastic! I've been using it for 6 months and it's still super fast.\n",
            "The ...\n",
            "============================================================\n",
            "\n",
            "1. Minimal processing (34 tokens):\n",
            "   ['this', 'laptop', 'is', 'absolutely', 'fantastic', 'ive', 'been', 'using', 'it', 'for']...\n",
            "\n",
            "2. Standard processing (18 tokens):\n",
            "   ['laptop', 'absolutely', 'fantastic', 've', 'use', 'month', 'super', 'fast', 'battery', 'life']...\n",
            "\n",
            "3. Aggressive processing (21 tokens):\n",
            "   ['laptop', 'absolut', 'fantast', 'use', 'month', 'still', 'super', 'fast', 'batteri', 'life']...\n",
            "\n",
            "📊 Token Reduction Summary:\n",
            "   Original: 47 tokens\n",
            "   Minimal: 34 (27.7% reduction)\n",
            "   Standard: 18 (61.7% reduction)\n",
            "   Aggressive: 21 (55.3% reduction)\n"
          ]
        }
      ],
      "source": [
        "# Step 16: Test Different Pipeline Configurations\n",
        "test_text = sample_texts[\"Product Review\"]\n",
        "print(f\"🎯 Testing on: {test_text[:100]}...\")\n",
        "print(\"=\" * 60)\n",
        "\n",
        "# Configuration 1: Minimal processing\n",
        "minimal = preprocess_text(test_text,\n",
        "                         clean_level='basic',\n",
        "                         remove_stopwords=False,\n",
        "                         use_lemmatization=False,\n",
        "                         use_stemming=False)\n",
        "print(f\"\\n1. Minimal processing ({len(minimal)} tokens):\")\n",
        "print(f\"   {minimal[:10]}...\")\n",
        "\n",
        "# Configuration 2: Standard processing\n",
        "standard = preprocess_text(test_text,\n",
        "                          clean_level='basic',\n",
        "                          remove_stopwords=True,\n",
        "                          use_lemmatization=True)\n",
        "print(f\"\\n2. Standard processing ({len(standard)} tokens):\")\n",
        "print(f\"   {standard[:10]}...\")\n",
        "\n",
        "# Configuration 3: Aggressive processing\n",
        "aggressive = preprocess_text(test_text,\n",
        "                            clean_level='advanced',\n",
        "                            remove_stopwords=True,\n",
        "                            use_lemmatization=False,\n",
        "                            use_stemming=True,\n",
        "                            min_length=3)\n",
        "print(f\"\\n3. Aggressive processing ({len(aggressive)} tokens):\")\n",
        "print(f\"   {aggressive[:10]}...\")\n",
        "\n",
        "# Show reduction percentages\n",
        "original_count = len(word_tokenize(test_text))\n",
        "print(f\"\\n📊 Token Reduction Summary:\")\n",
        "print(f\"   Original: {original_count} tokens\")\n",
        "print(f\"   Minimal: {len(minimal)} ({(original_count-len(minimal))/original_count*100:.1f}% reduction)\")\n",
        "print(f\"   Standard: {len(standard)} ({(original_count-len(standard))/original_count*100:.1f}% reduction)\")\n",
        "print(f\"   Aggressive: {len(aggressive)} ({(original_count-len(aggressive))/original_count*100:.1f}% reduction)\")"
      ]
    },
    {
      "cell_type": "markdown",
      "metadata": {
        "id": "RBb3LjQZeV-A"
      },
      "source": [
        "### 🤔 Conceptual Question 12\n",
        "**Compare the three pipeline configurations (Minimal, Standard, Aggressive). For each configuration, analyze:**\n",
        "1. **What information was preserved?**\n",
        "2. **What information was lost?**\n",
        "3. **What type of NLP task would this configuration be best suited for?**\n",
        "\n",
        "*Double-click this cell to write your answer:*\n",
        "\n",
        "**Minimal Processing:**\n",
        "- Preserved: Stop worrds and raw word forms were preserved.\n",
        "- Lost: There was no cleaning used which can cause issues with noise. Noise includes typos, irrelevant words/letters, and will not be able to use sentiment analysis.\n",
        "- Best for: This is best for text summarization.\n",
        "\n",
        "**Standard Processing:**\n",
        "- Preserved: Lemmatization was used which means the definitions/context of words being used will form relationships and remain preserved.\n",
        "- Lost: It will not keep stop words which can filter out words that are needed to build relationships between sentences and clauses.\n",
        "- Best for: Standard processing is best used for text classification and sentiment analysis.\n",
        "\n",
        "**Aggressive Processing:**\n",
        "- Preserved: Agressive processing uses stemming and adcanced cleaning. This allows there to be less stop words, and core content left are stemming.\n",
        "- Lost: If the stemming is too much, it can redefine the meaning of words and cause bad sentence flow.\n",
        "- Best for: This is best used when using search engines suchh as google or bing.\n",
        "\n",
        "---"
      ]
    },
    {
      "cell_type": "code",
      "execution_count": null,
      "metadata": {
        "id": "rtgwLN7neV-A",
        "colab": {
          "base_uri": "https://localhost:8080/"
        },
        "outputId": "d14be96d-7821-496d-ed16-0abcd531e763"
      },
      "outputs": [
        {
          "output_type": "stream",
          "name": "stdout",
          "text": [
            "🔬 Comprehensive Preprocessing Analysis\n",
            "==================================================\n",
            "\n",
            "📄 Simple:\n",
            "   Original: 14 tokens\n",
            "   Processed: 7 tokens (50.0% reduction)\n",
            "   Sample: ['natural', 'language', 'processing', 'fascinating', 'field', 'ai', 'amazing']\n",
            "\n",
            "📄 Academic:\n",
            "   Original: 61 tokens\n",
            "   Processed: 26 tokens (57.4% reduction)\n",
            "   Sample: ['dr', 'smith', 'research', 'machinelearning', 'algorithm', 'groundbreake', 'publish', 'paper']\n",
            "\n",
            "📄 Social Media:\n",
            "   Original: 22 tokens\n",
            "   Processed: 10 tokens (54.5% reduction)\n",
            "   Sample: ['omg', 'try', 'new', 'coffee', 'shop', 'good', 'highly', 'recommend']\n",
            "\n",
            "📄 News:\n",
            "   Original: 51 tokens\n",
            "   Processed: 25 tokens (51.0% reduction)\n",
            "   Sample: ['stock', 'market', 'experience', 'significant', 'volatility', 'today', 'tech', 'stock']\n",
            "\n",
            "📄 Product Review:\n",
            "   Original: 47 tokens\n",
            "   Processed: 18 tokens (61.7% reduction)\n",
            "   Sample: ['laptop', 'absolutely', 'fantastic', 've', 'use', 'month', 'super', 'fast']\n",
            "\n",
            "\n",
            "📋 Summary Table\n",
            "Text Type       Original   Processed  Reduction \n",
            "--------------------------------------------------\n",
            "Simple          14         7          50.0      %\n",
            "Academic        61         26         57.4      %\n",
            "Social Media    22         10         54.5      %\n",
            "News            51         25         51.0      %\n",
            "Product Review  47         18         61.7      %\n"
          ]
        }
      ],
      "source": [
        "# Step 17: Comprehensive Analysis Across Text Types\n",
        "print(\"🔬 Comprehensive Preprocessing Analysis\")\n",
        "print(\"=\" * 50)\n",
        "\n",
        "# Test standard preprocessing on all text types\n",
        "results = {}\n",
        "for name, text in sample_texts.items():\n",
        "    original_tokens = len(word_tokenize(text))\n",
        "    processed_tokens = preprocess_text(text,\n",
        "                                      clean_level='basic',\n",
        "                                      remove_stopwords=True,\n",
        "                                      use_lemmatization=True)\n",
        "\n",
        "    reduction = (original_tokens - len(processed_tokens)) / original_tokens * 100\n",
        "    results[name] = {\n",
        "        'original': original_tokens,\n",
        "        'processed': len(processed_tokens),\n",
        "        'reduction': reduction,\n",
        "        'sample': processed_tokens[:8]\n",
        "    }\n",
        "\n",
        "    print(f\"\\n📄 {name}:\")\n",
        "    print(f\"   Original: {original_tokens} tokens\")\n",
        "    print(f\"   Processed: {len(processed_tokens)} tokens ({reduction:.1f}% reduction)\")\n",
        "    print(f\"   Sample: {processed_tokens[:8]}\")\n",
        "\n",
        "# Summary table\n",
        "print(f\"\\n\\n📋 Summary Table\")\n",
        "print(f\"{'Text Type':<15} {'Original':<10} {'Processed':<10} {'Reduction':<10}\")\n",
        "print(\"-\" * 50)\n",
        "for name, data in results.items():\n",
        "    print(f\"{name:<15} {data['original']:<10} {data['processed']:<10} {data['reduction']:<10.1f}%\")"
      ]
    },
    {
      "cell_type": "markdown",
      "metadata": {
        "id": "MY3hCn_7eV-A"
      },
      "source": [
        "### 🤔 Final Conceptual Question 13\n",
        "**Looking at the comprehensive analysis results across all text types:**\n",
        "\n",
        "1. **Which text type was most affected by preprocessing?** Why do you think this happened?\n",
        "\n",
        "2. **Which text type was least affected?** What does this tell you about the nature of that text?\n",
        "\n",
        "3. **If you were building an NLP system to analyze customer reviews for a business, which preprocessing approach would you choose and why?**\n",
        "\n",
        "4. **What are the main trade-offs you need to consider when choosing preprocessing techniques for any NLP project?**\n",
        "\n",
        "*Double-click this cell to write your answer:*\n",
        "\n",
        "**1. Most affected text type:**\n",
        "Informal text types are the most affected by preprocessing. This is due to the high usage of slang, run on sentences, emojis, hashtags, and trendy phrases.\n",
        "\n",
        "**2. Least affected text type:**\n",
        "Least affected types would be formal text types. These text tend to have less noise and stop words in the writings. This allows for low usages of reduction.\n",
        "\n",
        "**3. For customer review analysis:**\n",
        "For the use of NLP in customer servce reviews, lemmatization is better. This is due to the ability to retain the meaning of what is being said. It also allows room for stop words that are crucial to understanding to be kept. More sentiment analysis creates a better customer service experience.\n",
        "\n",
        "**4. Main trade-offs to consider:**\n",
        "For NLP projects, there is a lot of consideration needed for preprocessing techniques. The risks at hand include choose between speed or accuracy, sentiment analysis, over-cleaning, and context of the field the project is being used for. All of these factors need to be considered while deciding what to use for each situation.\n",
        "\n",
        "---"
      ]
    },
    {
      "cell_type": "markdown",
      "metadata": {
        "id": "Byb97qokeV-G"
      },
      "source": [
        "## 🎯 Lab Summary and Reflection\n",
        "\n",
        "Congratulations! You've completed a comprehensive exploration of NLP preprocessing techniques.\n",
        "\n",
        "### 🔑 Key Concepts You've Mastered:\n",
        "\n",
        "1. **Text Preprocessing Fundamentals** - Understanding why preprocessing is crucial\n",
        "2. **Tokenization Techniques** - NLTK vs spaCy approaches and their trade-offs\n",
        "3. **Stop Word Management** - When to remove them and when to keep them\n",
        "4. **Morphological Processing** - Stemming vs lemmatization for different use cases\n",
        "5. **Text Cleaning Strategies** - Basic vs advanced cleaning for different text types\n",
        "6. **Pipeline Design** - Building modular, configurable preprocessing systems\n",
        "\n",
        "### 🎓 Real-World Applications:\n",
        "These techniques form the foundation for search engines, chatbots, sentiment analysis, document classification, machine translation, and information extraction systems.\n",
        "\n",
        "### 💡 Key Insights to Remember:\n",
        "- **No Universal Solution**: Different NLP tasks require different preprocessing approaches\n",
        "- **Trade-offs Are Everywhere**: Balance information preservation with noise reduction\n",
        "- **Context Matters**: The same technique can help or hurt depending on your use case\n",
        "- **Experimentation Is Key**: Always test and measure impact on your specific task\n",
        "\n",
        "---\n",
        "\n",
        "**Excellent work completing Lab 02!** 🎉\n",
        "\n",
        "For your reflection journal, focus on the insights you gained about when and why to use different techniques, the challenges you encountered, and connections you made to real-world applications."
      ]
    }
  ],
  "metadata": {
    "kernelspec": {
      "display_name": "Python 3",
      "language": "python",
      "name": "python3"
    },
    "language_info": {
      "codemirror_mode": {
        "name": "ipython",
        "version": 3
      },
      "file_extension": ".py",
      "mimetype": "text/x-python",
      "name": "python",
      "nbconvert_exporter": "python",
      "pygments_lexer": "ipython3",
      "version": "3.11.7"
    },
    "colab": {
      "provenance": []
    }
  },
  "nbformat": 4,
  "nbformat_minor": 0
}