{
  "cells": [
    {
      "cell_type": "markdown",
      "id": "0173ac91",
      "metadata": {
        "id": "0173ac91"
      },
      "source": [
        "\n",
        "# ITAI 2373 Module 05: Part-of-Speech Tagging\n",
        "## In-Class Exercise & Homework Lab\n",
        "\n",
        "Welcome to the world of Part-of-Speech (POS) tagging - the \"grammar police\" of Natural Language Processing! 🚔📝\n",
        "\n",
        "In this notebook, you'll explore how computers understand the grammatical roles of words in sentences, from simple rule-based approaches to modern AI systems.\n",
        "\n",
        "### What You'll Learn:\n",
        "- **Understand POS tagging fundamentals** and why it matters in daily apps\n",
        "- **Use NLTK and SpaCy** for practical text analysis\n",
        "- **Navigate different tag sets** and understand their trade-offs\n",
        "- **Handle real-world messy text** like speech transcripts and social media\n",
        "- **Apply POS tagging** to solve actual business problems\n",
        "\n",
        "### Structure:\n",
        "- **Part 1**: In-Class Exercise (30-45 minutes) - Basic concepts and hands-on practice\n",
        "- **Part 2**: Homework Lab - Real-world applications and advanced challenges\n",
        "\n",
        "---\n",
        "\n",
        "*💡 **Pro Tip**: POS tagging is everywhere! It helps search engines understand \"Apple stock\" vs \"apple pie\", helps Siri understand your commands, and powers autocorrect on your phone.*\n"
      ]
    },
    {
      "cell_type": "markdown",
      "id": "35d96f92",
      "metadata": {
        "id": "35d96f92"
      },
      "source": [
        "\n",
        "## 🛠️ Setup and Installation\n",
        "\n",
        "Let's get our tools ready! We'll use two powerful libraries:\n",
        "- **NLTK**: The \"Swiss Army knife\" of NLP - comprehensive but requires setup\n",
        "- **SpaCy**: The \"speed demon\" - built for production, cleaner output\n",
        "\n",
        "Run the cells below to install and set up everything we need.\n"
      ]
    },
    {
      "cell_type": "code",
      "execution_count": null,
      "id": "2a5f81ea",
      "metadata": {
        "id": "2a5f81ea",
        "colab": {
          "base_uri": "https://localhost:8080/"
        },
        "outputId": "a9f4f96a-b187-457d-aba1-091750e74600"
      },
      "outputs": [
        {
          "output_type": "stream",
          "name": "stdout",
          "text": [
            "Requirement already satisfied: nltk in /usr/local/lib/python3.11/dist-packages (3.9.1)\n",
            "Requirement already satisfied: spacy in /usr/local/lib/python3.11/dist-packages (3.8.7)\n",
            "Requirement already satisfied: matplotlib in /usr/local/lib/python3.11/dist-packages (3.10.0)\n",
            "Requirement already satisfied: seaborn in /usr/local/lib/python3.11/dist-packages (0.13.2)\n",
            "Requirement already satisfied: pandas in /usr/local/lib/python3.11/dist-packages (2.2.2)\n",
            "Requirement already satisfied: click in /usr/local/lib/python3.11/dist-packages (from nltk) (8.2.1)\n",
            "Requirement already satisfied: joblib in /usr/local/lib/python3.11/dist-packages (from nltk) (1.5.1)\n",
            "Requirement already satisfied: regex>=2021.8.3 in /usr/local/lib/python3.11/dist-packages (from nltk) (2024.11.6)\n",
            "Requirement already satisfied: tqdm in /usr/local/lib/python3.11/dist-packages (from nltk) (4.67.1)\n",
            "Requirement already satisfied: spacy-legacy<3.1.0,>=3.0.11 in /usr/local/lib/python3.11/dist-packages (from spacy) (3.0.12)\n",
            "Requirement already satisfied: spacy-loggers<2.0.0,>=1.0.0 in /usr/local/lib/python3.11/dist-packages (from spacy) (1.0.5)\n",
            "Requirement already satisfied: murmurhash<1.1.0,>=0.28.0 in /usr/local/lib/python3.11/dist-packages (from spacy) (1.0.13)\n",
            "Requirement already satisfied: cymem<2.1.0,>=2.0.2 in /usr/local/lib/python3.11/dist-packages (from spacy) (2.0.11)\n",
            "Requirement already satisfied: preshed<3.1.0,>=3.0.2 in /usr/local/lib/python3.11/dist-packages (from spacy) (3.0.10)\n",
            "Requirement already satisfied: thinc<8.4.0,>=8.3.4 in /usr/local/lib/python3.11/dist-packages (from spacy) (8.3.6)\n",
            "Requirement already satisfied: wasabi<1.2.0,>=0.9.1 in /usr/local/lib/python3.11/dist-packages (from spacy) (1.1.3)\n",
            "Requirement already satisfied: srsly<3.0.0,>=2.4.3 in /usr/local/lib/python3.11/dist-packages (from spacy) (2.5.1)\n",
            "Requirement already satisfied: catalogue<2.1.0,>=2.0.6 in /usr/local/lib/python3.11/dist-packages (from spacy) (2.0.10)\n",
            "Requirement already satisfied: weasel<0.5.0,>=0.1.0 in /usr/local/lib/python3.11/dist-packages (from spacy) (0.4.1)\n",
            "Requirement already satisfied: typer<1.0.0,>=0.3.0 in /usr/local/lib/python3.11/dist-packages (from spacy) (0.16.0)\n",
            "Requirement already satisfied: numpy>=1.19.0 in /usr/local/lib/python3.11/dist-packages (from spacy) (2.0.2)\n",
            "Requirement already satisfied: requests<3.0.0,>=2.13.0 in /usr/local/lib/python3.11/dist-packages (from spacy) (2.32.3)\n",
            "Requirement already satisfied: pydantic!=1.8,!=1.8.1,<3.0.0,>=1.7.4 in /usr/local/lib/python3.11/dist-packages (from spacy) (2.11.7)\n",
            "Requirement already satisfied: jinja2 in /usr/local/lib/python3.11/dist-packages (from spacy) (3.1.6)\n",
            "Requirement already satisfied: setuptools in /usr/local/lib/python3.11/dist-packages (from spacy) (75.2.0)\n",
            "Requirement already satisfied: packaging>=20.0 in /usr/local/lib/python3.11/dist-packages (from spacy) (24.2)\n",
            "Requirement already satisfied: langcodes<4.0.0,>=3.2.0 in /usr/local/lib/python3.11/dist-packages (from spacy) (3.5.0)\n",
            "Requirement already satisfied: contourpy>=1.0.1 in /usr/local/lib/python3.11/dist-packages (from matplotlib) (1.3.2)\n",
            "Requirement already satisfied: cycler>=0.10 in /usr/local/lib/python3.11/dist-packages (from matplotlib) (0.12.1)\n",
            "Requirement already satisfied: fonttools>=4.22.0 in /usr/local/lib/python3.11/dist-packages (from matplotlib) (4.58.4)\n",
            "Requirement already satisfied: kiwisolver>=1.3.1 in /usr/local/lib/python3.11/dist-packages (from matplotlib) (1.4.8)\n",
            "Requirement already satisfied: pillow>=8 in /usr/local/lib/python3.11/dist-packages (from matplotlib) (11.2.1)\n",
            "Requirement already satisfied: pyparsing>=2.3.1 in /usr/local/lib/python3.11/dist-packages (from matplotlib) (3.2.3)\n",
            "Requirement already satisfied: python-dateutil>=2.7 in /usr/local/lib/python3.11/dist-packages (from matplotlib) (2.9.0.post0)\n",
            "Requirement already satisfied: pytz>=2020.1 in /usr/local/lib/python3.11/dist-packages (from pandas) (2025.2)\n",
            "Requirement already satisfied: tzdata>=2022.7 in /usr/local/lib/python3.11/dist-packages (from pandas) (2025.2)\n",
            "Requirement already satisfied: language-data>=1.2 in /usr/local/lib/python3.11/dist-packages (from langcodes<4.0.0,>=3.2.0->spacy) (1.3.0)\n",
            "Requirement already satisfied: annotated-types>=0.6.0 in /usr/local/lib/python3.11/dist-packages (from pydantic!=1.8,!=1.8.1,<3.0.0,>=1.7.4->spacy) (0.7.0)\n",
            "Requirement already satisfied: pydantic-core==2.33.2 in /usr/local/lib/python3.11/dist-packages (from pydantic!=1.8,!=1.8.1,<3.0.0,>=1.7.4->spacy) (2.33.2)\n",
            "Requirement already satisfied: typing-extensions>=4.12.2 in /usr/local/lib/python3.11/dist-packages (from pydantic!=1.8,!=1.8.1,<3.0.0,>=1.7.4->spacy) (4.14.0)\n",
            "Requirement already satisfied: typing-inspection>=0.4.0 in /usr/local/lib/python3.11/dist-packages (from pydantic!=1.8,!=1.8.1,<3.0.0,>=1.7.4->spacy) (0.4.1)\n",
            "Requirement already satisfied: six>=1.5 in /usr/local/lib/python3.11/dist-packages (from python-dateutil>=2.7->matplotlib) (1.17.0)\n",
            "Requirement already satisfied: charset-normalizer<4,>=2 in /usr/local/lib/python3.11/dist-packages (from requests<3.0.0,>=2.13.0->spacy) (3.4.2)\n",
            "Requirement already satisfied: idna<4,>=2.5 in /usr/local/lib/python3.11/dist-packages (from requests<3.0.0,>=2.13.0->spacy) (3.10)\n",
            "Requirement already satisfied: urllib3<3,>=1.21.1 in /usr/local/lib/python3.11/dist-packages (from requests<3.0.0,>=2.13.0->spacy) (2.4.0)\n",
            "Requirement already satisfied: certifi>=2017.4.17 in /usr/local/lib/python3.11/dist-packages (from requests<3.0.0,>=2.13.0->spacy) (2025.6.15)\n",
            "Requirement already satisfied: blis<1.4.0,>=1.3.0 in /usr/local/lib/python3.11/dist-packages (from thinc<8.4.0,>=8.3.4->spacy) (1.3.0)\n",
            "Requirement already satisfied: confection<1.0.0,>=0.0.1 in /usr/local/lib/python3.11/dist-packages (from thinc<8.4.0,>=8.3.4->spacy) (0.1.5)\n",
            "Requirement already satisfied: shellingham>=1.3.0 in /usr/local/lib/python3.11/dist-packages (from typer<1.0.0,>=0.3.0->spacy) (1.5.4)\n",
            "Requirement already satisfied: rich>=10.11.0 in /usr/local/lib/python3.11/dist-packages (from typer<1.0.0,>=0.3.0->spacy) (13.9.4)\n",
            "Requirement already satisfied: cloudpathlib<1.0.0,>=0.7.0 in /usr/local/lib/python3.11/dist-packages (from weasel<0.5.0,>=0.1.0->spacy) (0.21.1)\n",
            "Requirement already satisfied: smart-open<8.0.0,>=5.2.1 in /usr/local/lib/python3.11/dist-packages (from weasel<0.5.0,>=0.1.0->spacy) (7.3.0)\n",
            "Requirement already satisfied: MarkupSafe>=2.0 in /usr/local/lib/python3.11/dist-packages (from jinja2->spacy) (3.0.2)\n",
            "Requirement already satisfied: marisa-trie>=1.1.0 in /usr/local/lib/python3.11/dist-packages (from language-data>=1.2->langcodes<4.0.0,>=3.2.0->spacy) (1.2.1)\n",
            "Requirement already satisfied: markdown-it-py>=2.2.0 in /usr/local/lib/python3.11/dist-packages (from rich>=10.11.0->typer<1.0.0,>=0.3.0->spacy) (3.0.0)\n",
            "Requirement already satisfied: pygments<3.0.0,>=2.13.0 in /usr/local/lib/python3.11/dist-packages (from rich>=10.11.0->typer<1.0.0,>=0.3.0->spacy) (2.19.2)\n",
            "Requirement already satisfied: wrapt in /usr/local/lib/python3.11/dist-packages (from smart-open<8.0.0,>=5.2.1->weasel<0.5.0,>=0.1.0->spacy) (1.17.2)\n",
            "Requirement already satisfied: mdurl~=0.1 in /usr/local/lib/python3.11/dist-packages (from markdown-it-py>=2.2.0->rich>=10.11.0->typer<1.0.0,>=0.3.0->spacy) (0.1.2)\n",
            "Collecting en-core-web-sm==3.8.0\n",
            "  Downloading https://github.com/explosion/spacy-models/releases/download/en_core_web_sm-3.8.0/en_core_web_sm-3.8.0-py3-none-any.whl (12.8 MB)\n",
            "\u001b[2K     \u001b[90m━━━━━━━━━━━━━━━━━━━━━━━━━━━━━━━━━━━━━━━━\u001b[0m \u001b[32m12.8/12.8 MB\u001b[0m \u001b[31m32.5 MB/s\u001b[0m eta \u001b[36m0:00:00\u001b[0m\n",
            "\u001b[?25h\u001b[38;5;2m✔ Download and installation successful\u001b[0m\n",
            "You can now load the package via spacy.load('en_core_web_sm')\n",
            "\u001b[38;5;3m⚠ Restart to reload dependencies\u001b[0m\n",
            "If you are in a Jupyter or Colab notebook, you may need to restart Python in\n",
            "order to load all the package's dependencies. You can do this by selecting the\n",
            "'Restart kernel' or 'Restart runtime' option.\n",
            "✅ Installation complete!\n"
          ]
        }
      ],
      "source": [
        "\n",
        "# Install required libraries (run this first!)\n",
        "!pip install nltk spacy matplotlib seaborn pandas\n",
        "!python -m spacy download en_core_web_sm\n",
        "\n",
        "print(\"✅ Installation complete!\")\n"
      ]
    },
    {
      "cell_type": "code",
      "execution_count": null,
      "id": "a1135905",
      "metadata": {
        "id": "a1135905",
        "colab": {
          "base_uri": "https://localhost:8080/"
        },
        "outputId": "0a0b6610-3a4b-4398-a652-4b3bd834c413"
      },
      "outputs": [
        {
          "output_type": "stream",
          "name": "stderr",
          "text": [
            "[nltk_data] Downloading package punkt to /root/nltk_data...\n",
            "[nltk_data]   Package punkt is already up-to-date!\n",
            "[nltk_data] Downloading package averaged_perceptron_tagger to\n",
            "[nltk_data]     /root/nltk_data...\n",
            "[nltk_data]   Package averaged_perceptron_tagger is already up-to-\n",
            "[nltk_data]       date!\n",
            "[nltk_data] Downloading package averaged_perceptron_tagger_eng to\n",
            "[nltk_data]     /root/nltk_data...\n",
            "[nltk_data]   Package averaged_perceptron_tagger_eng is already up-to-\n",
            "[nltk_data]       date!\n",
            "[nltk_data] Downloading package universal_tagset to /root/nltk_data...\n",
            "[nltk_data]   Package universal_tagset is already up-to-date!\n",
            "[nltk_data] Downloading package punkt_tab to /root/nltk_data...\n",
            "[nltk_data]   Package punkt_tab is already up-to-date!\n"
          ]
        },
        {
          "output_type": "stream",
          "name": "stdout",
          "text": [
            "🎉 All libraries loaded successfully!\n",
            "📚 NLTK version: 3.9.1\n",
            "🚀 SpaCy version: 3.8.7\n"
          ]
        }
      ],
      "source": [
        "# Import all the libraries we'll need\n",
        "import nltk\n",
        "import spacy\n",
        "import pandas as pd\n",
        "import matplotlib.pyplot as plt\n",
        "import seaborn as sns\n",
        "from collections import Counter\n",
        "import warnings\n",
        "warnings.filterwarnings('ignore')\n",
        "\n",
        "# Download NLTK data (this might take a moment)\n",
        "nltk.download('punkt')\n",
        "nltk.download('averaged_perceptron_tagger')\n",
        "nltk.download('averaged_perceptron_tagger_eng') # Added this line\n",
        "nltk.download('universal_tagset')\n",
        "nltk.download('punkt_tab')\n",
        "\n",
        "# Load SpaCy model\n",
        "nlp = spacy.load('en_core_web_sm')\n",
        "\n",
        "print(\"🎉 All libraries loaded successfully!\")\n",
        "print(\"📚 NLTK version:\", nltk.__version__)\n",
        "print(\"🚀 SpaCy version:\", spacy.__version__)"
      ]
    },
    {
      "cell_type": "markdown",
      "id": "c816a7ce",
      "metadata": {
        "id": "c816a7ce"
      },
      "source": [
        "\n",
        "---\n",
        "# 🎯 PART 1: IN-CLASS EXERCISE (30-45 minutes)\n",
        "\n",
        "Welcome to the hands-on portion! We'll start with the basics and build up your understanding step by step.\n",
        "\n",
        "## Learning Goals for Part 1:\n",
        "1. Understand what POS tagging does\n",
        "2. Use NLTK and SpaCy for basic tagging\n",
        "3. Interpret and compare different tag outputs\n",
        "4. Explore word ambiguity with real examples\n",
        "5. Compare different tagging approaches\n"
      ]
    },
    {
      "cell_type": "markdown",
      "id": "76538fce",
      "metadata": {
        "id": "76538fce"
      },
      "source": [
        "\n",
        "## 🔍 Activity 1: Your First POS Tags (10 minutes)\n",
        "\n",
        "Let's start with the classic example: \"The quick brown fox jumps over the lazy dog\"\n",
        "\n",
        "This sentence contains most common parts of speech, making it perfect for learning!\n"
      ]
    },
    {
      "cell_type": "code",
      "execution_count": null,
      "id": "6d12c1b4",
      "metadata": {
        "id": "6d12c1b4",
        "colab": {
          "base_uri": "https://localhost:8080/"
        },
        "outputId": "bcb7af9f-5837-4533-f964-28711b19835b"
      },
      "outputs": [
        {
          "output_type": "stream",
          "name": "stdout",
          "text": [
            "Original sentence: The quick brown fox jumps over the lazy dog\n",
            "\n",
            "Tokens: ['The', 'quick', 'brown', 'fox', 'jumps', 'over', 'the', 'lazy', 'dog']\n",
            "\n",
            "POS Tags:\n",
            "  The      -> DT\n",
            "  quick    -> JJ\n",
            "  brown    -> NN\n",
            "  fox      -> NN\n",
            "  jumps    -> VBZ\n",
            "  over     -> IN\n",
            "  the      -> DT\n",
            "  lazy     -> JJ\n",
            "  dog      -> NN\n"
          ]
        }
      ],
      "source": [
        "# Let's start with a classic example\n",
        "sentence = \"The quick brown fox jumps over the lazy dog\"\n",
        "\n",
        "# TODO: Use NLTK to tokenize and tag the sentence\n",
        "# Hint: Use nltk.word_tokenize() and nltk.pos_tag()\n",
        "tokens = nltk.word_tokenize(sentence)\n",
        "pos_tags = nltk.pos_tag(tokens)\n",
        "\n",
        "print(\"Original sentence:\", sentence)\n",
        "print(\"\\nTokens:\", tokens)\n",
        "print(\"\\nPOS Tags:\")\n",
        "for word, tag in pos_tags:\n",
        "    print(f\"  {word:8} -> {tag}\")"
      ]
    },
    {
      "cell_type": "markdown",
      "id": "555b5f5d",
      "metadata": {
        "id": "555b5f5d"
      },
      "source": [
        "\n",
        "### 🤔 Quick Questions:\n",
        "1. What does 'DT' mean? What about 'JJ'?\n",
        "\n",
        "  DT means \"determiner\" while JJ stands for \"adjectives\".\n",
        "\n",
        "2. Why do you think 'brown' and 'lazy' have the same tag?\n",
        "\n",
        "  On my end, they do not have the same tag in the run above. Brown is NN which is a noun tag. Lazy is tagged with JJ which is an ajective. However, they do have the same tag in SpaCy tagging! I am not sure why they are not both tagged as ajectives above, but in this sentence they both act as adjectives.\n",
        "\n",
        "3. Can you guess what 'VBZ' represents?\n",
        "\n",
        "  VBZ is pretty straight forward compared to some of the other tags. It stands for verbs!\n",
        "\n",
        "*Hint: Think about the grammatical role each word plays in the sentence!*\n"
      ]
    },
    {
      "cell_type": "markdown",
      "id": "f3045611",
      "metadata": {
        "id": "f3045611"
      },
      "source": [
        "\n",
        "## 🚀 Activity 2: SpaCy vs NLTK Showdown (10 minutes)\n",
        "\n",
        "Now let's see how SpaCy handles the same sentence. SpaCy uses cleaner, more intuitive tag names.\n"
      ]
    },
    {
      "cell_type": "code",
      "execution_count": null,
      "id": "a9669b15",
      "metadata": {
        "id": "a9669b15",
        "colab": {
          "base_uri": "https://localhost:8080/"
        },
        "outputId": "fed3cb3f-cdef-4c4c-ecd7-695e8aabde31"
      },
      "outputs": [
        {
          "output_type": "stream",
          "name": "stdout",
          "text": [
            "SpaCy POS Tags:\n",
            "  The      -> DET    (DT)\n",
            "  quick    -> ADJ    (JJ)\n",
            "  brown    -> ADJ    (JJ)\n",
            "  fox      -> NOUN   (NN)\n",
            "  jumps    -> VERB   (VBZ)\n",
            "  over     -> ADP    (IN)\n",
            "  the      -> DET    (DT)\n",
            "  lazy     -> ADJ    (JJ)\n",
            "  dog      -> NOUN   (NN)\n",
            "\n",
            "==================================================\n",
            "COMPARISON:\n",
            "==================================================\n",
            "Word       NLTK     SpaCy     \n",
            "------------------------------\n",
            "The        DT       DET       \n",
            "quick      JJ       ADJ       \n",
            "brown      NN       ADJ       \n",
            "fox        NN       NOUN      \n",
            "jumps      VBZ      VERB      \n",
            "over       IN       ADP       \n",
            "the        DT       DET       \n",
            "lazy       JJ       ADJ       \n",
            "dog        NN       NOUN      \n"
          ]
        }
      ],
      "source": [
        "# TODO: Process the same sentence with SpaCy\n",
        "# Hint: Use nlp(sentence) and access .text and .pos_ attributes\n",
        "doc = nlp(sentence)\n",
        "\n",
        "print(\"SpaCy POS Tags:\")\n",
        "for token in doc:\n",
        "    print(f\"  {token.text:8} -> {token.pos_:6} ({token.tag_})\")\n",
        "\n",
        "print(\"\\n\" + \"=\"*50)\n",
        "print(\"COMPARISON:\")\n",
        "print(\"=\"*50)\n",
        "\n",
        "# Let's compare side by side\n",
        "nltk_tags = nltk.pos_tag(nltk.word_tokenize(sentence))\n",
        "spacy_doc = nlp(sentence)\n",
        "\n",
        "print(f\"{'Word':10} {'NLTK':8} {'SpaCy':10}\")\n",
        "print(\"-\" * 30)\n",
        "for i, (word, nltk_tag) in enumerate(nltk_tags):\n",
        "    spacy_tag = spacy_doc[i].pos_\n",
        "    print(f\"{word:10} {nltk_tag:8} {spacy_tag:10}\")"
      ]
    },
    {
      "cell_type": "markdown",
      "id": "889c2fcc",
      "metadata": {
        "id": "889c2fcc"
      },
      "source": [
        "\n",
        "### 🎯 Discussion Points:\n",
        "- Which tags are easier to understand: NLTK's or SpaCy's?\n",
        "\n",
        "  SpaCy makes it a lot easier to understand what the tags mean.\n",
        "\n",
        "- Do you notice any differences in how they tag the same words?\n",
        "\n",
        "  The way they tag preposition still is not the best in either. I feel like it is a bit misleading with NLTK being \"IN\" and SpaCy being \"ADP\". Only the SpaCy has a P in the tag, but even then, it is at the end. This could be hard to remember in the moment that those tags mean it is a preposition.\n",
        "\n",
        "- Which system would you prefer for a beginner? Why?\n",
        "  I would prefer SpaCy for a beginner because it gives more detail in the tag to know what it stands for. Take \"NN\" and \"noun\" for example, \"noun\" is pretty direct! As a beginner, there are already a lot new things to learn, to see anything in plain text is a relief. The tags in SpaCy overall are simplified in comparision to NLTK. Given the words, \"verb, noun, adj, det\", is easier to process compared to the abbreviations provided by NLTK."
      ]
    },
    {
      "cell_type": "markdown",
      "id": "1d773576",
      "metadata": {
        "id": "1d773576"
      },
      "source": [
        "\n",
        "## 🎭 Activity 3: The Ambiguity Challenge (15 minutes)\n",
        "\n",
        "Here's where things get interesting! Many words can be different parts of speech depending on context. Let's explore this with some tricky examples.\n"
      ]
    },
    {
      "cell_type": "code",
      "execution_count": null,
      "id": "4de9076f",
      "metadata": {
        "id": "4de9076f",
        "colab": {
          "base_uri": "https://localhost:8080/"
        },
        "outputId": "cb38c4e1-f345-4059-dc6b-db6322d0bb59"
      },
      "outputs": [
        {
          "output_type": "stream",
          "name": "stdout",
          "text": [
            "🎭 AMBIGUITY EXPLORATION\n",
            "========================================\n",
            "\n",
            "Sentence: I will lead the team to victory.\n",
            "  🎯 'lead' is tagged as: VB\n",
            "\n",
            "Sentence: The lead pipe is heavy.\n",
            "  🎯 'lead' is tagged as: NN\n",
            "\n",
            "Sentence: She took the lead in the race.\n",
            "  🎯 'lead' is tagged as: NN\n",
            "\n",
            "Sentence: The bank approved my loan.\n",
            "  🎯 'bank' is tagged as: NN\n",
            "\n",
            "Sentence: We sat by the river bank.\n",
            "  🎯 'bank' is tagged as: NN\n",
            "\n",
            "Sentence: I bank with Chase.\n",
            "  🎯 'bank' is tagged as: NN\n",
            "\n",
            "Sentence: The bank is going to be busy on Friday\n",
            "  🎯 'bank' is tagged as: NN\n",
            "\n",
            "Sentence: The lead time on material is one week out\n",
            "  🎯 'lead' is tagged as: JJ\n"
          ]
        }
      ],
      "source": [
        "\n",
        "# Ambiguous words in different contexts\n",
        "ambiguous_sentences = [\n",
        "    \"I will lead the team to victory.\",           # lead = verb\n",
        "    \"The lead pipe is heavy.\",                    # lead = noun (metal)\n",
        "    \"She took the lead in the race.\",            # lead = noun (position)\n",
        "    \"The bank approved my loan.\",                # bank = noun (financial)\n",
        "    \"We sat by the river bank.\",                 # bank = noun (shore)\n",
        "    \"I bank with Chase.\",  # bank = verb\n",
        "    \"The bank is going to be busy on Friday\",\n",
        "    \"The lead time on material is one week out\",\n",
        "    ]\n",
        "\n",
        "print(\"🎭 AMBIGUITY EXPLORATION\")\n",
        "print(\"=\" * 40)\n",
        "\n",
        "for sentence in ambiguous_sentences:\n",
        "    print(f\"\\nSentence: {sentence}\")\n",
        "\n",
        "    # TODO: Tag each sentence and find the ambiguous word\n",
        "    # Focus on 'lead' and 'bank' - what tags do they get?\n",
        "    tokens = nltk.word_tokenize(sentence)\n",
        "    tags = nltk.pos_tag(tokens)\n",
        "\n",
        "    # Find and highlight the key word\n",
        "    for word, tag in tags:\n",
        "        if word.lower() in ['lead', 'bank']:\n",
        "            print(f\"  🎯 '{word}' is tagged as: {tag}\")\n"
      ]
    },
    {
      "cell_type": "markdown",
      "id": "b299cc67",
      "metadata": {
        "id": "b299cc67"
      },
      "source": [
        "\n",
        "### 🧠 Think About It:\n",
        "1. How does the computer know the difference between \"lead\" (metal) and \"lead\" (guide)?\n",
        "\n",
        "The computer uses context to be able to differentiate between the verbs and nouns.\n",
        "\n",
        "2. What clues in the sentence help determine the correct part of speech?\n",
        "\n",
        "The clues that help determine the correct parts of speech are the pairing of the words. Once the context is grasped, it is able to be tagged.\n",
        "\n",
        "3. Can you think of other words that change meaning based on context?\n",
        "\n",
        "The word \"book\" can be used in different context and mean separate things. Example: \"Book it!\" refers to moving quickly.\n",
        "While \"The book is interesting\" refers to literature.\n",
        "\n",
        "**Try This**: Add your own ambiguous sentences to the list above and see how the tagger handles them!\n"
      ]
    },
    {
      "cell_type": "markdown",
      "id": "cd61b43a",
      "metadata": {
        "id": "cd61b43a"
      },
      "source": [
        "\n",
        "## 📊 Activity 4: Tag Set Showdown (10 minutes)\n",
        "\n",
        "NLTK can use different tag sets. Let's compare the detailed Penn Treebank tags (~45 tags) with the simpler Universal Dependencies tags (~17 tags).\n"
      ]
    },
    {
      "cell_type": "code",
      "execution_count": null,
      "id": "9fd01009",
      "metadata": {
        "id": "9fd01009",
        "colab": {
          "base_uri": "https://localhost:8080/"
        },
        "outputId": "c22d1d21-2149-4447-f15e-edee73757f77"
      },
      "outputs": [
        {
          "output_type": "stream",
          "name": "stdout",
          "text": [
            "TAG SET COMPARISON\n",
            "==================================================\n",
            "Word            Penn Treebank   Universal \n",
            "--------------------------------------------------\n",
            "The             DT              DET       \n",
            "brilliant       JJ              ADJ       \n",
            "students        NNS             NOUN      \n",
            "quickly         RB              ADV       \n",
            "solved          VBD             VERB      \n",
            "the             DT              DET       \n",
            "challenging     VBG             VERB      \n",
            "programming     JJ              ADJ       \n",
            "assignment      NN              NOUN      \n",
            ".               .               .         \n",
            "\n",
            "📊 Penn Treebank uses 8 different tags\n",
            "📊 Universal uses 6 different tags\n"
          ]
        }
      ],
      "source": [
        "# Compare different tag sets\n",
        "test_sentence = \"The brilliant students quickly solved the challenging programming assignment.\"\n",
        "\n",
        "# TODO: Get tags using both Penn Treebank and Universal tagsets\n",
        "# Hint: Use tagset='universal' parameter for universal tags\n",
        "penn_tags = nltk.pos_tag(nltk.word_tokenize(test_sentence))\n",
        "universal_tags = nltk.pos_tag(nltk.word_tokenize(test_sentence), tagset='universal')\n",
        "\n",
        "print(\"TAG SET COMPARISON\")\n",
        "print(\"=\" * 50)\n",
        "print(f\"{'Word':15} {'Penn Treebank':15} {'Universal':10}\")\n",
        "print(\"-\" * 50)\n",
        "\n",
        "# TODO: Print comparison table\n",
        "# Hint: Zip the two tag lists together\n",
        "for (word, penn_tag), (word_univ, univ_tag) in zip(penn_tags, universal_tags):\n",
        "    print(f\"{word:15} {penn_tag:15} {univ_tag:10}\")\n",
        "\n",
        "# Let's also visualize the tag distribution\n",
        "penn_tag_counts = Counter([tag for word, tag in penn_tags])\n",
        "univ_tag_counts = Counter([tag for word, tag in universal_tags])\n",
        "\n",
        "\n",
        "print(f\"\\n📊 Penn Treebank uses {len(penn_tag_counts)} different tags\")\n",
        "print(f\"📊 Universal uses {len(univ_tag_counts)} different tags\")"
      ]
    },
    {
      "cell_type": "markdown",
      "id": "2fab1efe",
      "metadata": {
        "id": "2fab1efe"
      },
      "source": [
        "\n",
        "### 🤔 Reflection Questions:\n",
        "1. Which tag set is more detailed? Which is simpler? Enter your answer below\n",
        "\n",
        "The Universal tag set is more detailed and straight forward compared to Penn Treebank.\n",
        "\n",
        "2. When might you want detailed tags vs. simple tags? Enter your answer below\n",
        "\n",
        "When it comes to detailed tags, it is best to use these when dealing with fine-grained classification. On the other hand, simple tags are better for smaller data sets and prototyping!\n",
        "\n",
        "3. If you were building a search engine, which would you choose? Why? Enter your answer below\n",
        "\n",
        "When it comes to building a search engine, both are good options. Personally, I would use detailed tags due to the abundance of scholarly information being searched by students and researchers. It would be a search engine catered to higher level of learning material rather than basic information.\n",
        "\n",
        "---\n"
      ]
    },
    {
      "cell_type": "markdown",
      "id": "e2e2ce7d",
      "metadata": {
        "id": "e2e2ce7d"
      },
      "source": [
        "\n",
        "---\n",
        "# 🎓 End of Part 1: In-Class Exercise\n",
        "\n",
        "Great work! You've learned the fundamentals of POS tagging and gotten hands-on experience with both NLTK and SpaCy.\n",
        "\n",
        "## What You've Accomplished:\n",
        "✅ Used NLTK and SpaCy for basic POS tagging  \n",
        "✅ Interpreted different tag systems  \n",
        "✅ Explored word ambiguity and context  \n",
        "✅ Compared different tagging approaches  \n",
        "\n",
        "## 🏠 Ready for Part 2?\n",
        "The homework lab will challenge you with real-world applications, messy data, and advanced techniques. You'll analyze customer service transcripts, handle informal language, and benchmark different taggers.\n",
        "\n",
        "**Take a break, then dive into Part 2 when you're ready!**\n",
        "\n",
        "---\n"
      ]
    },
    {
      "cell_type": "markdown",
      "id": "571e9ac8",
      "metadata": {
        "id": "571e9ac8"
      },
      "source": [
        "\n",
        "# 🏠 PART 2: HOMEWORK LAB\n",
        "## Real-World POS Tagging Challenges\n",
        "\n",
        "Welcome to the advanced section! Here you'll tackle the messy, complex world of real text data. This is where POS tagging gets interesting (and challenging)!\n",
        "\n",
        "## Learning Goals for Part 2:\n",
        "1. Process real-world, messy text data\n",
        "2. Handle speech transcripts and informal language\n",
        "3. Analyze customer service scenarios\n",
        "4. Benchmark and compare different taggers\n",
        "5. Understand limitations and edge cases\n",
        "\n",
        "## 📋 Submission Requirements:\n",
        "- Complete all exercises with working code\n",
        "- Answer all reflection questions\n",
        "- Include at least one visualization\n",
        "- Submit your completed notebook file\n",
        "\n",
        "---\n"
      ]
    },
    {
      "cell_type": "markdown",
      "id": "15ae7ff1",
      "metadata": {
        "id": "15ae7ff1"
      },
      "source": [
        "\n",
        "## 🌍 Lab Exercise 1: Messy Text Challenge (25 minutes)\n",
        "\n",
        "Real-world text is nothing like textbook examples! Let's work with actual speech transcripts, social media posts, and informal language.\n"
      ]
    },
    {
      "cell_type": "code",
      "execution_count": null,
      "id": "cacc5fe7",
      "metadata": {
        "id": "cacc5fe7",
        "colab": {
          "base_uri": "https://localhost:8080/"
        },
        "outputId": "097edadb-0634-4d0f-d518-3137fe646003"
      },
      "outputs": [
        {
          "output_type": "stream",
          "name": "stdout",
          "text": [
            "🔍 PROCESSING MESSY TEXT\n",
            "============================================================\n",
            "\n",
            "📝 Sample 1: Um, so like, I was gonna say that, uh, the system ain't working right, you know?\n",
            "----------------------------------------\n",
            "NLTK problematic words: []\n",
            "SpaCy problematic words: []\n",
            "NLTK success rate: 100.0%\n",
            "SpaCy success rate: 100.0%\n",
            "\n",
            "📝 Sample 2: OMG this app is sooo buggy rn 😤 cant even login smh\n",
            "----------------------------------------\n",
            "NLTK problematic words: []\n",
            "SpaCy problematic words: []\n",
            "NLTK success rate: 100.0%\n",
            "SpaCy success rate: 100.0%\n",
            "\n",
            "📝 Sample 3: Yeah hi um I'm calling because my internet's been down since like yesterday and I've tried unplugging the router thingy but it's still not working\n",
            "----------------------------------------\n",
            "NLTK problematic words: []\n",
            "SpaCy problematic words: []\n",
            "NLTK success rate: 100.0%\n",
            "SpaCy success rate: 100.0%\n",
            "\n",
            "📝 Sample 4: Y'all better fix this ASAP cuz I'm bout to switch providers fr fr\n",
            "----------------------------------------\n",
            "NLTK problematic words: []\n",
            "SpaCy problematic words: []\n",
            "NLTK success rate: 100.0%\n",
            "SpaCy success rate: 100.0%\n",
            "\n",
            "📝 Sample 5: The API endpoint is returning a 500 error but idk why it's happening tbh\n",
            "----------------------------------------\n",
            "NLTK problematic words: []\n",
            "SpaCy problematic words: []\n",
            "NLTK success rate: 100.0%\n",
            "SpaCy success rate: 100.0%\n"
          ]
        }
      ],
      "source": [
        "# Real-world messy text samples\n",
        "messy_texts = [\n",
        "    # Speech transcript with disfluencies\n",
        "    \"Um, so like, I was gonna say that, uh, the system ain't working right, you know?\",\n",
        "\n",
        "    # Social media style\n",
        "    \"OMG this app is sooo buggy rn 😤 cant even login smh\",\n",
        "\n",
        "    # Customer service transcript\n",
        "    \"Yeah hi um I'm calling because my internet's been down since like yesterday and I've tried unplugging the router thingy but it's still not working\",\n",
        "\n",
        "    # Informal contractions and slang\n",
        "    \"Y'all better fix this ASAP cuz I'm bout to switch providers fr fr\",\n",
        "\n",
        "    # Technical jargon mixed with casual speech\n",
        "    \"The API endpoint is returning a 500 error but idk why it's happening tbh\"\n",
        "]\n",
        "\n",
        "print(\"🔍 PROCESSING MESSY TEXT\")\n",
        "print(\"=\" * 60)\n",
        "\n",
        "# TODO: Process each messy text sample\n",
        "# 1. Use both NLTK and SpaCy\n",
        "# 2. Count how many words each tagger fails to recognize properly\n",
        "# 3. Identify problematic words (slang, contractions, etc.)\n",
        "\n",
        "for i, text in enumerate(messy_texts, 1):\n",
        "    print(f\"\\n📝 Sample {i}: {text}\")\n",
        "    print(\"-\" * 40)\n",
        "\n",
        "    # NLTK processing\n",
        "    nltk_tokens = nltk.word_tokenize(text)\n",
        "    nltk_tags = nltk.pos_tag(nltk_tokens)\n",
        "\n",
        "    # TODO: SpaCy processing\n",
        "    spacy_doc = nlp(text)\n",
        "\n",
        "    # TODO: Find problematic words (tagged as 'X' or unknown)\n",
        "    problematic_nltk = [word for word, tag in nltk_tags if tag in ['X', 'ADD']] # 'ADD' is also used for some foreign words/symbols\n",
        "    problematic_spacy = [token.text for token in spacy_doc if token.pos_ == 'X']\n",
        "\n",
        "    print(f\"NLTK problematic words: {problematic_nltk}\")\n",
        "    print(f\"SpaCy problematic words: {problematic_spacy}\")\n",
        "\n",
        "    # TODO: Calculate success rate\n",
        "    nltk_success_rate = (len(nltk_tags) - len(problematic_nltk)) / len(nltk_tags) if len(nltk_tags) > 0 else 0\n",
        "    spacy_success_rate = (len(spacy_doc) - len(problematic_spacy)) / len(spacy_doc) if len(spacy_doc) > 0 else 0\n",
        "\n",
        "    print(f\"NLTK success rate: {nltk_success_rate:.1%}\")\n",
        "    print(f\"SpaCy success rate: {spacy_success_rate:.1%}\")"
      ]
    },
    {
      "cell_type": "markdown",
      "id": "35a387a8",
      "metadata": {
        "id": "35a387a8"
      },
      "source": [
        "\n",
        "### 🎯 Analysis Questions:\n",
        "1. Which tagger handles informal language better?\n",
        "\n",
        "In the above example, they both handled iformal text the same and did not produce any problematic words. In general, SpaCy does better when dealing with informal language.\n",
        "\n",
        "2. What types of words cause the most problems?\n",
        "\n",
        "Problematic words in tagging include those that have multiple different meanings depending on the context it is used in. These are considered ambigious words. Other problematic words include slang or purposeful mispelled words that create \"text slang\".\n",
        "\n",
        "3. How might you preprocess text to improve tagging accuracy?\n",
        "\n",
        "Cleaning, tokenizing, spell checker, and other tools that can even break down contractions, all contribute to improving tagging accuracy.\n",
        "\n",
        "4. What are the implications for real-world applications?\n",
        "\n",
        "The implications for real-world applications include the business boom in e-commerce and its ability to tag the different items to fit what the customer is searching for. Other fields that directly benefit are the healthcare and law sectors."
      ]
    },
    {
      "cell_type": "markdown",
      "id": "966c3a77",
      "metadata": {
        "id": "966c3a77"
      },
      "source": [
        "\n",
        "## 📞 Lab Exercise 2: Customer Service Analysis Case Study (30 minutes)\n",
        "\n",
        "You're working for a tech company that receives thousands of customer service calls daily. Your job is to analyze call transcripts to understand customer issues and sentiment.\n",
        "\n",
        "**Business Goal**: Automatically categorize customer problems and identify emotional language.\n"
      ]
    },
    {
      "cell_type": "code",
      "execution_count": null,
      "id": "c7a5ed54",
      "metadata": {
        "id": "c7a5ed54",
        "colab": {
          "base_uri": "https://localhost:8080/"
        },
        "outputId": "22e3c83b-7e57-41c3-b9d8-45f7c3784506"
      },
      "outputs": [
        {
          "output_type": "stream",
          "name": "stdout",
          "text": [
            "\n",
            "🎧 Analyzing CALL_001\n",
            "Category: account_access\n",
            "Transcript: Hi, I'm really frustrated because my account got locked and I can't access my files. I've been trying for hours and nothing works. This is completely unacceptable.\n",
            "--------------------------------------------------\n",
            "Emotional adjectives: ['frustrated', 'unacceptable']\n",
            "Action verbs: ['locked', 'access', 'trying', 'works']\n",
            "Problem nouns: ['account', 'files', 'hours']\n",
            "Sentiment score: -3\n",
            "Urgency indicators: []\n",
            "\n",
            "🎧 Analyzing CALL_002\n",
            "Category: technical_issue\n",
            "Transcript: Hello, I love your service but I'm having a small issue with the mobile app. It crashes whenever I try to upload photos. Could you please help me fix this?\n",
            "--------------------------------------------------\n",
            "Emotional adjectives: ['small', 'mobile']\n",
            "Action verbs: ['love', 'having', 'crashes', 'try', 'upload', 'help', 'fix']\n",
            "Problem nouns: ['service', 'issue', 'app', 'photos']\n",
            "Sentiment score: -1\n",
            "Urgency indicators: []\n",
            "\n",
            "🎧 Analyzing CALL_003\n",
            "Category: billing\n",
            "Transcript: Your billing system charged me twice this month! I want a refund immediately. This is ridiculous and I'm considering canceling my subscription.\n",
            "--------------------------------------------------\n",
            "Emotional adjectives: ['ridiculous']\n",
            "Action verbs: ['charged', 'want', 'considering', 'canceling']\n",
            "Problem nouns: ['billing', 'system', 'month', 'refund', 'subscription']\n",
            "Sentiment score: -1\n",
            "Urgency indicators: ['immediately']\n",
            "\n",
            "🎧 Analyzing CALL_004\n",
            "Category: user_guidance\n",
            "Transcript: I'm confused about how to use the new features you added. The interface changed and I can't find anything. Can someone walk me through it?\n",
            "--------------------------------------------------\n",
            "Emotional adjectives: ['confused', 'new']\n",
            "Action verbs: ['use', 'added', 'changed', 'find', 'walk']\n",
            "Problem nouns: ['features', 'interface']\n",
            "Sentiment score: -1\n",
            "Urgency indicators: []\n"
          ]
        }
      ],
      "source": [
        "# Simulated customer service call transcripts\n",
        "customer_transcripts = [\n",
        "    {\n",
        "        'id': 'CALL_001',\n",
        "        'transcript': \"Hi, I'm really frustrated because my account got locked and I can't access my files. I've been trying for hours and nothing works. This is completely unacceptable.\",\n",
        "        'category': 'account_access'\n",
        "    },\n",
        "    {\n",
        "        'id': 'CALL_002',\n",
        "        'transcript': \"Hello, I love your service but I'm having a small issue with the mobile app. It crashes whenever I try to upload photos. Could you please help me fix this?\",\n",
        "        'category': 'technical_issue'\n",
        "    },\n",
        "    {\n",
        "        'id': 'CALL_003',\n",
        "        'transcript': \"Your billing system charged me twice this month! I want a refund immediately. This is ridiculous and I'm considering canceling my subscription.\",\n",
        "        'category': 'billing'\n",
        "    },\n",
        "    {\n",
        "        'id': 'CALL_004',\n",
        "        'transcript': \"I'm confused about how to use the new features you added. The interface changed and I can't find anything. Can someone walk me through it?\",\n",
        "        'category': 'user_guidance'\n",
        "    }\n",
        "]\n",
        "\n",
        "# TODO: Analyze each transcript for:\n",
        "# 1. Emotional language (adjectives that indicate sentiment)\n",
        "# 2. Action words (verbs that indicate what customer wants)\n",
        "# 3. Problem indicators (nouns related to issues)\n",
        "\n",
        "analysis_results = []\n",
        "\n",
        "positive_sentiment_words = [\"love\", \"great\", \"good\", \"happy\", \"pleased\"]\n",
        "negative_sentiment_words = [\"frustrated\", \"unacceptable\", \"ridiculous\", \"buggy\", \"terrible\", \"down\", \"locked\", \"issue\", \"crashes\", \"charged twice\", \"confused\", \"can't find\"]\n",
        "urgency_words = [\"immediately\", \"ASAP\", \"now\", \"urgent\"]\n",
        "\n",
        "\n",
        "for call in customer_transcripts:\n",
        "    print(f\"\\n🎧 Analyzing {call['id']}\")\n",
        "    print(f\"Category: {call['category']}\")\n",
        "    print(f\"Transcript: {call['transcript']}\")\n",
        "    print(\"-\" * 50)\n",
        "\n",
        "    # TODO: Process with SpaCy (it's better for this task)\n",
        "    doc = nlp(call['transcript'])\n",
        "\n",
        "    # TODO: Extract different types of words\n",
        "    emotional_adjectives =   [token.text for token in doc if token.pos_ == 'ADJ']\n",
        "    action_verbs = [token.text for token in doc if token.pos_ == 'VERB']\n",
        "    problem_nouns = [token.text for token in doc if token.pos_ == 'NOUN'] # Extract all nouns for now, can filter later based on context or a problem lexicon\n",
        "\n",
        "\n",
        "    # TODO: Calculate sentiment indicators\n",
        "    positive_words = [token.text.lower() for token in doc if token.text.lower() in positive_sentiment_words]\n",
        "    negative_words = [token.text.lower() for token in doc if token.text.lower() in negative_sentiment_words]\n",
        "\n",
        "    result = {\n",
        "        'call_id': call['id'],\n",
        "        'category': call['category'],\n",
        "        'emotional_adjectives': emotional_adjectives,\n",
        "        'action_verbs': action_verbs,\n",
        "        'problem_nouns': problem_nouns,\n",
        "        'sentiment_score': len(positive_words) - len(negative_words),\n",
        "        'urgency_indicators': [token.text.lower() for token in doc if token.text.lower() in urgency_words]\n",
        "    }\n",
        "\n",
        "    analysis_results.append(result)\n",
        "\n",
        "    print(f\"Emotional adjectives: {emotional_adjectives}\")\n",
        "    print(f\"Action verbs: {action_verbs}\")\n",
        "    print(f\"Problem nouns: {problem_nouns}\")\n",
        "    print(f\"Sentiment score: {result['sentiment_score']}\")\n",
        "    print(f\"Urgency indicators: {result['urgency_indicators']}\")"
      ]
    },
    {
      "cell_type": "code",
      "execution_count": null,
      "id": "6db420ac",
      "metadata": {
        "id": "6db420ac",
        "colab": {
          "base_uri": "https://localhost:8080/",
          "height": 896
        },
        "outputId": "b58c8756-b08e-4f61-91f5-d941e66c2ab1"
      },
      "outputs": [
        {
          "output_type": "display_data",
          "data": {
            "text/plain": [
              "<Figure size 1500x1000 with 4 Axes>"
            ],
            "image/png": "[encoded data removed]"
          },
          "metadata": {}
        }
      ],
      "source": [
        "\n",
        "# TODO: Create a summary visualization\n",
        "# Hint: Use matplotlib or seaborn to create charts\n",
        "\n",
        "import matplotlib.pyplot as plt\n",
        "import pandas as pd\n",
        "\n",
        "# Convert results to DataFrame for easier analysis\n",
        "df = pd.DataFrame(analysis_results)\n",
        "\n",
        "# TODO: Create visualizations\n",
        "# 1. Sentiment scores by category\n",
        "# 2. Most common emotional adjectives\n",
        "# 3. Action verbs frequency\n",
        "\n",
        "fig, axes = plt.subplots(2, 2, figsize=(15, 10))\n",
        "\n",
        "# TODO: Plot 1 - Sentiment by category\n",
        "df.groupby('category')['sentiment_score'].mean().plot(kind='bar', ax=axes[0, 0])\n",
        "axes[0, 0].set_title('Average Sentiment Score by Category')\n",
        "\n",
        "# TODO: Plot 2 - Word frequency analysis\n",
        "df['emotional_adjectives'].explode().value_counts().plot(kind='bar', ax=axes[0, 1])\n",
        "axes[0, 1].set_title('Most Common Emotional Adjectives')\n",
        "\n",
        "# TODO: Plot 3 - Problem categorization\n",
        "df['problem_nouns'].explode().value_counts().plot(kind='bar', ax=axes[1, 0])\n",
        "axes[1, 0].set_title('Most Common Problem Nouns')\n",
        "\n",
        "# TODO: Plot 4 - Urgency analysis\n",
        "df['urgency_indicators'].explode().value_counts().plot(kind='bar', ax=axes[1, 1])\n",
        "axes[1, 1].set_title('Most Common Urgency Indicators')\n",
        "\n",
        "plt.tight_layout()\n",
        "plt.show()\n"
      ]
    },
    {
      "cell_type": "markdown",
      "id": "8c9a271c",
      "metadata": {
        "id": "8c9a271c"
      },
      "source": [
        "\n",
        "### 💼 Business Impact Questions:\n",
        "1. How could this analysis help prioritize customer service tickets?\n",
        "\n",
        "By being able to filter through the emotional language being used by customers, it is possible to priortize those in immediate need of assistance compared to someone who may not be in an urgent need for help.\n",
        "\n",
        "2. What patterns do you notice in different problem categories?\n",
        "\n",
        "The problem nouns reference a lot of technical terms which could divert the user to the tech department. The urgency category only has \"immediate\" on it and will most likely land the customer with a helpful representative to alleviate any issues. Last, the emotional category displays plenty of negative words which can escalate the call to managment.\n",
        "\n",
        "3. How might you automate the routing of calls based on POS analysis?\n",
        "\n",
        "In order to automate the routing of calls, there will need to be a lot of tagging. Once words were associated with a category, it would appear to be easy to transition into the auomated service. Key words can describe a lot for a sytstem and having calls  separated by department before the phone rings, can save plenty of time.\n",
        "\n",
        "4. What are the limitations of this approach?\n",
        "\n",
        "I am sure we all have made calls and were left frustrated whenever the automated system did not help get us to the person we needed to talk to. I believe the issues with context is leading to the limitations of this approach."
      ]
    },
    {
      "cell_type": "markdown",
      "id": "22733d79",
      "metadata": {
        "id": "22733d79"
      },
      "source": [
        "\n",
        "## ⚡ Lab Exercise 3: Tagger Performance Benchmarking (20 minutes)\n",
        "\n",
        "Let's scientifically compare different POS taggers on various types of text. This will help you understand when to use which tool.\n"
      ]
    },
    {
      "cell_type": "code",
      "execution_count": null,
      "id": "39ac25fc",
      "metadata": {
        "id": "39ac25fc",
        "colab": {
          "base_uri": "https://localhost:8080/",
          "height": 1835
        },
        "outputId": "d3567e4e-95f0-4654-eeb4-77bc76c9da9a"
      },
      "outputs": [
        {
          "output_type": "stream",
          "name": "stdout",
          "text": [
            "\n",
            "🧪 Testing FORMAL text:\n",
            "Text: The research methodology employed in this study follows established academic protocols.\n",
            "------------------------------------------------------------\n",
            "NLTK Penn time: 0.0011s, Unknown: 0\n",
            "NLTK Univ time: 0.0008s, Unknown: 0\n",
            "SpaCy time: 0.0164s, Unknown: 0\n",
            "\n",
            "🧪 Testing INFORMAL text:\n",
            "Text: lol this study is kinda weird but whatever works i guess 🤷‍♀️\n",
            "------------------------------------------------------------\n",
            "NLTK Penn time: 0.0016s, Unknown: 0\n",
            "NLTK Univ time: 0.0026s, Unknown: 0\n",
            "SpaCy time: 0.0138s, Unknown: 0\n",
            "\n",
            "🧪 Testing TECHNICAL text:\n",
            "Text: The API returns a JSON response with HTTP status code 200 upon successful authentication.\n",
            "------------------------------------------------------------\n",
            "NLTK Penn time: 0.0013s, Unknown: 0\n",
            "NLTK Univ time: 0.0009s, Unknown: 0\n",
            "SpaCy time: 0.0133s, Unknown: 0\n",
            "\n",
            "🧪 Testing CONVERSATIONAL text:\n",
            "Text: So like, when you click that button thingy, it should totally work, right?\n",
            "------------------------------------------------------------\n",
            "NLTK Penn time: 0.0017s, Unknown: 0\n",
            "NLTK Univ time: 0.0013s, Unknown: 0\n",
            "SpaCy time: 0.0146s, Unknown: 0\n",
            "\n",
            "🧪 Testing MIXED text:\n",
            "Text: OMG the algorithm's performance is absolutely terrible! The accuracy dropped to 23% wtf\n",
            "------------------------------------------------------------\n",
            "NLTK Penn time: 0.0017s, Unknown: 0\n",
            "NLTK Univ time: 0.0011s, Unknown: 0\n",
            "SpaCy time: 0.0134s, Unknown: 0\n"
          ]
        },
        {
          "output_type": "display_data",
          "data": {
            "text/plain": [
              "<Figure size 1200x600 with 1 Axes>"
            ],
            "image/png": "[encoded data removed]"
          },
          "metadata": {}
        },
        {
          "output_type": "display_data",
          "data": {
            "text/plain": [
              "<Figure size 1200x600 with 1 Axes>"
            ],
            "image/png": "[encoded data removed]"
          },
          "metadata": {}
        }
      ],
      "source": [
        "import time\n",
        "from collections import defaultdict, Counter\n",
        "import matplotlib.pyplot as plt\n",
        "import pandas as pd\n",
        "import seaborn as sns\n",
        "import nltk\n",
        "import spacy\n",
        "\n",
        "# Different text types for testing\n",
        "test_texts = {\n",
        "    'formal': \"The research methodology employed in this study follows established academic protocols.\",\n",
        "    'informal': \"lol this study is kinda weird but whatever works i guess 🤷‍♀️\",\n",
        "    'technical': \"The API returns a JSON response with HTTP status code 200 upon successful authentication.\",\n",
        "    'conversational': \"So like, when you click that button thingy, it should totally work, right?\",\n",
        "    'mixed': \"OMG the algorithm's performance is absolutely terrible! The accuracy dropped to 23% wtf\"\n",
        "}\n",
        "\n",
        "# TODO: Benchmark different taggers\n",
        "# Test: NLTK Penn Treebank, NLTK Universal, SpaCy\n",
        "# Metrics: Speed, tag consistency, handling of unknown words\n",
        "\n",
        "benchmark_results = defaultdict(dict) # Changed to dict to store multiple metrics\n",
        "\n",
        "for text_type, text in test_texts.items():\n",
        "    print(f\"\\n🧪 Testing {text_type.upper()} text:\")\n",
        "    print(f\"Text: {text}\")\n",
        "    print(\"-\" * 60)\n",
        "\n",
        "    # NLTK Penn Treebank timing and unknown count\n",
        "    start_time = time.time()\n",
        "    nltk_tokens = nltk.word_tokenize(text)\n",
        "    nltk_penn_tags = nltk.pos_tag(nltk_tokens)\n",
        "    nltk_penn_time = time.time() - start_time\n",
        "    # NLTK Penn Treebank uses 'NNP' for proper nouns, 'NN' for nouns, etc.\n",
        "    # It doesn't have a specific 'unknown' tag like 'X' for all cases.\n",
        "    # We can count words with tags that might indicate issues, but 'X' and 'ADD' are less common in standard text.\n",
        "    # For this benchmark, let's focus on the time and SpaCy's 'X' tag as a general indicator of unhandled tokens.\n",
        "    # If we wanted a true unknown count for NLTK, we'd need a comprehensive list of expected tags and check for anything outside that.\n",
        "    # For simplicity in this benchmark, we will mainly use SpaCy's 'X' tag for unknown.\n",
        "    nltk_penn_unknown = len([word for word, tag in nltk_penn_tags if tag in ['UNK', 'ADD', 'X']]) # Include some potential unknown tags\n",
        "\n",
        "\n",
        "    # NLTK Universal timing and unknown count\n",
        "    start_time = time.time()\n",
        "    nltk_univ_tags = nltk.pos_tag(nltk_tokens, tagset='universal')\n",
        "    nltk_univ_time = time.time() - start_time\n",
        "    # Universal tagset has 'X' for unknown\n",
        "    nltk_univ_unknown = len([word for word, tag in nltk_univ_tags if tag == 'X'])\n",
        "\n",
        "\n",
        "    # SpaCy timing and unknown count\n",
        "    start_time = time.time()\n",
        "    spacy_doc = nlp(text)\n",
        "    spacy_time = time.time() - start_time\n",
        "    # SpaCy uses 'X' for unknown\n",
        "    spacy_unknown = len([token for token in spacy_doc if token.pos_ == 'X'])\n",
        "\n",
        "\n",
        "    # Store results\n",
        "    benchmark_results[text_type] = {\n",
        "        'NLTK Penn Time (s)': nltk_penn_time,\n",
        "        'NLTK Universal Time (s)': nltk_univ_time,\n",
        "        'SpaCy Time (s)': spacy_time,\n",
        "        'NLTK Penn Unknown': nltk_penn_unknown,\n",
        "        'NLTK Universal Unknown': nltk_univ_unknown,\n",
        "        'SpaCy Unknown': spacy_unknown\n",
        "    }\n",
        "\n",
        "    print(f\"NLTK Penn time: {nltk_penn_time:.4f}s, Unknown: {nltk_penn_unknown}\")\n",
        "    print(f\"NLTK Univ time: {nltk_univ_time:.4f}s, Unknown: {nltk_univ_unknown}\")\n",
        "    print(f\"SpaCy time: {spacy_time:.4f}s, Unknown: {spacy_unknown}\")\n",
        "\n",
        "\n",
        "# TODO: Create performance comparison visualization\n",
        "df_bench = pd.DataFrame.from_dict(benchmark_results, orient='index')\n",
        "\n",
        "# Plotting time comparison\n",
        "df_time = df_bench[['NLTK Penn Time (s)', 'NLTK Universal Time (s)', 'SpaCy Time (s)']]\n",
        "ax_time = df_time.plot(kind='bar', figsize=(12, 6))\n",
        "ax_time.set_title('Tagger Speed Comparison by Text Type')\n",
        "ax_time.set_xlabel('Text Type')\n",
        "ax_time.set_ylabel('Processing Time (s)')\n",
        "ax_time.tick_params(axis='x', rotation=45)\n",
        "plt.tight_layout()\n",
        "plt.show()\n",
        "\n",
        "# Plotting unknown words comparison\n",
        "df_unknown = df_bench[['NLTK Penn Unknown', 'NLTK Universal Unknown', 'SpaCy Unknown']]\n",
        "ax_unknown = df_unknown.plot(kind='bar', figsize=(12, 6))\n",
        "ax_unknown.set_title('Unknown Words Count by Text Type')\n",
        "ax_unknown.set_xlabel('Text Type')\n",
        "ax_unknown.set_ylabel('Count of Unknown Words')\n",
        "ax_unknown.tick_params(axis='x', rotation=45)\n",
        "plt.tight_layout()\n",
        "plt.show()"
      ]
    },
    {
      "cell_type": "markdown",
      "id": "a656d62d",
      "metadata": {
        "id": "a656d62d"
      },
      "source": [
        "\n",
        "### 📊 Performance Analysis:\n",
        "1. Which tagger is fastest? Does speed matter for your use case?\n",
        "\n",
        "NLTK Uniersal was the fastest tagger. Speed and accuracy are both important, and I prefer accuracy over speed personally.\n",
        "\n",
        "2. Which handles informal text best?\n",
        "\n",
        "NLTk Universal handled informal text the best!\n",
        "\n",
        "3. How do the taggers compare on technical jargon?\n",
        "\n",
        "Both NLTK taggers are close on technical jargon, but SpaCy took far longer.\n",
        "\n",
        "4. What trade-offs do you see between speed and accuracy?\n",
        "When it comes to speed, you have to accept that the accuracy might not be the best. When it comes to trade offs when in the medical field, I would want a slower model that is accurate over one that delivers quick results but could be incorrect. There is a time and place for speed and accuracy both. It just depends on what the purpose is!\n"
      ]
    },
    {
      "cell_type": "markdown",
      "id": "08244956",
      "metadata": {
        "id": "08244956"
      },
      "source": [
        "\n",
        "## 🚨 Lab Exercise 4: Edge Cases and Error Analysis (15 minutes)\n",
        "\n",
        "Every system has limitations. Let's explore the edge cases where POS taggers struggle and understand why.\n"
      ]
    },
    {
      "cell_type": "code",
      "execution_count": null,
      "id": "b5e4119e",
      "metadata": {
        "id": "b5e4119e",
        "colab": {
          "base_uri": "https://localhost:8080/"
        },
        "outputId": "9b7258e5-0377-4a83-f1a9-36476569b404"
      },
      "outputs": [
        {
          "output_type": "stream",
          "name": "stdout",
          "text": [
            "🚨 EDGE CASE ANALYSIS\n",
            "==================================================\n",
            "\n",
            "🔍 Edge Case 1:\n",
            "Text: Buffalo buffalo Buffalo buffalo buffalo buffalo Buffalo buffalo.\n",
            "------------------------------\n",
            "NLTK tags: [('Buffalo', 'NNP'), ('buffalo', 'NN'), ('Buffalo', 'NNP'), ('buffalo', 'NN'), ('buffalo', 'NN'), ('buffalo', 'NN'), ('Buffalo', 'NNP'), ('buffalo', 'NN'), ('.', '.')]\n",
            "SpaCy tags: [('Buffalo', 'PROPN'), ('buffalo', 'NOUN'), ('Buffalo', 'PROPN'), ('buffalo', 'PROPN'), ('buffalo', 'PROPN'), ('buffalo', 'PROPN'), ('Buffalo', 'PROPN'), ('buffalo', 'PROPN'), ('.', 'PUNCT')]\n",
            "  Analysis: 'Buffalo' ambiguity test.\n",
            "\n",
            "🔍 Edge Case 2:\n",
            "Text: Time flies like an arrow; fruit flies like a banana.\n",
            "------------------------------\n",
            "NLTK tags: [('Time', 'NNP'), ('flies', 'NNS'), ('like', 'IN'), ('an', 'DT'), ('arrow', 'NN'), (';', ':'), ('fruit', 'CC'), ('flies', 'NNS'), ('like', 'IN'), ('a', 'DT'), ('banana', 'NN'), ('.', '.')]\n",
            "SpaCy tags: [('Time', 'NOUN'), ('flies', 'VERB'), ('like', 'ADP'), ('an', 'DET'), ('arrow', 'NOUN'), (';', 'PUNCT'), ('fruit', 'NOUN'), ('flies', 'NOUN'), ('like', 'ADP'), ('a', 'DET'), ('banana', 'NOUN'), ('.', 'PUNCT')]\n",
            "  Analysis: 'Time flies' / 'fruit flies' ambiguity.\n",
            "\n",
            "🔍 Edge Case 3:\n",
            "Text: The man the boat the river.\n",
            "------------------------------\n",
            "NLTK tags: [('The', 'DT'), ('man', 'NN'), ('the', 'DT'), ('boat', 'NN'), ('the', 'DT'), ('river', 'NN'), ('.', '.')]\n",
            "SpaCy tags: [('The', 'DET'), ('man', 'NOUN'), ('the', 'DET'), ('boat', 'NOUN'), ('the', 'DET'), ('river', 'NOUN'), ('.', 'PUNCT')]\n",
            "\n",
            "🔍 Edge Case 4:\n",
            "Text: Police police Police police police police Police police.\n",
            "------------------------------\n",
            "NLTK tags: [('Police', 'NNP'), ('police', 'NNS'), ('Police', 'NNP'), ('police', 'NNS'), ('police', 'NN'), ('police', 'NN'), ('Police', 'NNP'), ('police', 'NNS'), ('.', '.')]\n",
            "SpaCy tags: [('Police', 'NOUN'), ('police', 'NOUN'), ('Police', 'NOUN'), ('police', 'NOUN'), ('police', 'NOUN'), ('police', 'NOUN'), ('Police', 'NOUN'), ('police', 'NOUN'), ('.', 'PUNCT')]\n",
            "\n",
            "🔍 Edge Case 5:\n",
            "Text: James while John had had had had had had had had had had had a better effect on the teacher.\n",
            "------------------------------\n",
            "NLTK tags: [('James', 'NNP'), ('while', 'IN'), ('John', 'NNP'), ('had', 'VBD'), ('had', 'VBN'), ('had', 'VBN'), ('had', 'VBN'), ('had', 'VBN'), ('had', 'VBN'), ('had', 'VBN'), ('had', 'VBN'), ('had', 'VBN'), ('had', 'VBN'), ('had', 'VBN'), ('a', 'DT'), ('better', 'RBR'), ('effect', 'NN'), ('on', 'IN'), ('the', 'DT'), ('teacher', 'NN'), ('.', '.')]\n",
            "SpaCy tags: [('James', 'PROPN'), ('while', 'SCONJ'), ('John', 'PROPN'), ('had', 'AUX'), ('had', 'AUX'), ('had', 'AUX'), ('had', 'AUX'), ('had', 'AUX'), ('had', 'AUX'), ('had', 'AUX'), ('had', 'AUX'), ('had', 'AUX'), ('had', 'AUX'), ('had', 'VERB'), ('a', 'DET'), ('better', 'ADJ'), ('effect', 'NOUN'), ('on', 'ADP'), ('the', 'DET'), ('teacher', 'NOUN'), ('.', 'PUNCT')]\n",
            "  Analysis: 'Had had had' complex structure.\n",
            "\n",
            "🔍 Edge Case 6:\n",
            "Text: Can can can can can can can can can can.\n",
            "------------------------------\n",
            "NLTK tags: [('Can', 'MD'), ('can', 'MD'), ('can', 'MD'), ('can', 'MD'), ('can', 'MD'), ('can', 'MD'), ('can', 'MD'), ('can', 'MD'), ('can', 'MD'), ('can', 'MD'), ('.', '.')]\n",
            "SpaCy tags: [('Can', 'AUX'), ('can', 'AUX'), ('can', 'AUX'), ('can', 'AUX'), ('can', 'AUX'), ('can', 'AUX'), ('can', 'AUX'), ('can', 'AUX'), ('can', 'AUX'), ('can', 'VERB'), ('.', 'PUNCT')]\n",
            "\n",
            "🔍 Edge Case 7:\n",
            "Text: @username #hashtag http://bit.ly/abc123 😂🔥💯\n",
            "------------------------------\n",
            "NLTK tags: [('@', 'JJ'), ('username', 'JJ'), ('#', '#'), ('hashtag', 'JJ'), ('http', 'NN'), (':', ':'), ('//bit.ly/abc123', 'NN'), ('😂🔥💯', 'NN')]\n",
            "SpaCy tags: [('@username', 'PROPN'), ('#', 'SYM'), ('hashtag', 'NOUN'), ('http://bit.ly/abc123', 'PROPN'), ('😂', 'PROPN'), ('🔥', 'X'), ('💯', 'NOUN')]\n",
            "  SpaCy identified problematic tags (X): [('🔥', 'X')]\n",
            "  Analysis: Social media/informal elements.\n",
            "\n",
            "🔍 Edge Case 8:\n",
            "Text: COVID-19 AI/ML IoT APIs RESTful microservices\n",
            "------------------------------\n",
            "NLTK tags: [('COVID-19', 'JJ'), ('AI/ML', 'NNP'), ('IoT', 'NNP'), ('APIs', 'NNP'), ('RESTful', 'NNP'), ('microservices', 'NNS')]\n",
            "SpaCy tags: [('COVID-19', 'PROPN'), ('AI', 'PROPN'), ('/', 'SYM'), ('ML', 'PROPN'), ('IoT', 'ADJ'), ('APIs', 'NOUN'), ('RESTful', 'PART'), ('microservices', 'NOUN')]\n",
            "  Analysis: Modern technical terms.\n",
            "\n",
            "🤔 REFLECTION ON LIMITATIONS:\n",
            "========================================\n",
            "Based on the edge cases above, POS taggers can struggle with:\n",
            "- Extreme ambiguity and recursive sentence structures (e.g., 'Buffalo', 'Police')\n",
            "- Complex sequences of the same word ('Had had had')\n",
            "- Non-standard text like social media handles, hashtags, URLs, and emojis\n",
            "- Newly coined words or technical jargon not present in training data\n",
            "These cases highlight the reliance of taggers on training data and contextual patterns, which break down in unusual linguistic constructs or novel vocabulary.\n"
          ]
        }
      ],
      "source": [
        "# Challenging edge cases\n",
        "edge_cases = [\n",
        "    \"Buffalo buffalo Buffalo buffalo buffalo buffalo Buffalo buffalo.\",  # Famous ambiguous sentence\n",
        "    \"Time flies like an arrow; fruit flies like a banana.\",              # Classic ambiguity\n",
        "    \"The man the boat the river.\",                                       # Garden path sentence\n",
        "    \"Police police Police police police police Police police.\",          # Recursive structure\n",
        "    \"James while John had had had had had had had had had had had a better effect on the teacher.\",  # Had had had...\n",
        "    \"Can can can can can can can can can can.\",                         # Modal/noun ambiguity\n",
        "    \"@username #hashtag http://bit.ly/abc123 😂🔥💯\",                   # Social media elements\n",
        "    \"COVID-19 AI/ML IoT APIs RESTful microservices\",                    # Modern technical terms\n",
        "]\n",
        "\n",
        "print(\"🚨 EDGE CASE ANALYSIS\")\n",
        "print(\"=\" * 50)\n",
        "\n",
        "# TODO: Process each edge case and analyze failures\n",
        "for i, text in enumerate(edge_cases, 1):\n",
        "    print(f\"\\n🔍 Edge Case {i}:\")\n",
        "    print(f\"Text: {text}\")\n",
        "    print(\"-\" * 30)\n",
        "\n",
        "    try:\n",
        "        # TODO: Process with both taggers\n",
        "        nltk_tokens = nltk.word_tokenize(text)\n",
        "        nltk_tags = nltk.pos_tag(nltk_tokens)\n",
        "        spacy_doc = nlp(text)\n",
        "\n",
        "        # TODO: Identify potential errors or weird tags\n",
        "        # Look for: repeated tags, unusual patterns, X tags, etc.\n",
        "        problematic_nltk = [(word, tag) for word, tag in nltk_tags if tag in ['X', 'ADD']]\n",
        "        problematic_spacy = [(token.text, token.pos_) for token in spacy_doc if token.pos_ == 'X']\n",
        "\n",
        "        print(\"NLTK tags:\", nltk_tags)\n",
        "        print(\"SpaCy tags:\", [(token.text, token.pos_) for token in spacy_doc])\n",
        "\n",
        "        # TODO: Analyze what went wrong\n",
        "        if problematic_nltk:\n",
        "            print(f\"  NLTK identified problematic tags (X, ADD): {problematic_nltk}\")\n",
        "        if problematic_spacy:\n",
        "             print(f\"  SpaCy identified problematic tags (X): {problematic_spacy}\")\n",
        "\n",
        "        # Simple analysis of specific edge cases\n",
        "        if \"buffalo\" in text.lower():\n",
        "            print(\"  Analysis: 'Buffalo' ambiguity test.\")\n",
        "        if \"flies\" in text.lower() and \"like\" in text.lower():\n",
        "             print(\"  Analysis: 'Time flies' / 'fruit flies' ambiguity.\")\n",
        "        if \"had had had\" in text.lower():\n",
        "             print(\"  Analysis: 'Had had had' complex structure.\")\n",
        "        if \"@username\" in text or \"#hashtag\" in text or \"http\" in text or \"😂\" in text:\n",
        "             print(\"  Analysis: Social media/informal elements.\")\n",
        "        if \"covid-19\" in text.lower() or \"api\" in text.lower():\n",
        "             print(\"  Analysis: Modern technical terms.\")\n",
        "\n",
        "\n",
        "    except Exception as e:\n",
        "        print(f\"❌ Error processing: {e}\")\n",
        "\n",
        "# TODO: Reflection on limitations\n",
        "print(\"\\n🤔 REFLECTION ON LIMITATIONS:\")\n",
        "print(\"=\" * 40)\n",
        "print(\"Based on the edge cases above, POS taggers can struggle with:\")\n",
        "print(\"- Extreme ambiguity and recursive sentence structures (e.g., 'Buffalo', 'Police')\")\n",
        "print(\"- Complex sequences of the same word ('Had had had')\")\n",
        "print(\"- Non-standard text like social media handles, hashtags, URLs, and emojis\")\n",
        "print(\"- Newly coined words or technical jargon not present in training data\")\n",
        "print(\"These cases highlight the reliance of taggers on training data and contextual patterns, which break down in unusual linguistic constructs or novel vocabulary.\")"
      ]
    },
    {
      "cell_type": "markdown",
      "id": "969fe260",
      "metadata": {
        "id": "969fe260"
      },
      "source": [
        "\n",
        "### 🧠 Critical Thinking Questions:\n",
        "Enter you asnwers below each question.\n",
        "1. Why do these edge cases break the taggers?\n",
        "\n",
        "  Edge cases break the taggers because rules have not been followed and they ensure a system catches these errors to avoid any malfunctions later on.\n",
        "\n",
        "2. How might you preprocess text to handle some of these issues?\n",
        "\n",
        "  Preprocessing helps a lot whenever you can clean enough noise, acknowledge slang, spell check, and expand words that are not always typed out all the way. By doing these, it allows less room for issues.\n",
        "\n",
        "3. When would these limitations matter in real applications?\n",
        "\n",
        "  Without accuracy, limitations increase which directly impact real-world users. Any type of technical issue is frustrating whenver you do not have a solution on how to fix it as a user. So if tagging is incorrect in situations such as medical or legal work, then misinformation on care/direction can occur. Another example being incorrect tagging for automated calls which can lead to frustrated customers never being able to reach a solution they are searcing for.\n",
        "\n",
        "4. How do modern large language models handle these cases differently?\n",
        "\n",
        "  Modern large language models can process semantic relationships, informal text, and focus on entire sentences. The contextual depth they reach is impressive when compared to other models.\n",
        "\n",
        "---\n"
      ]
    },
    {
      "cell_type": "markdown",
      "id": "4aa06861",
      "metadata": {
        "id": "4aa06861"
      },
      "source": [
        "\n",
        "## 🎯 Final Reflection and Submission\n",
        "\n",
        "Congratulations! You've completed a comprehensive exploration of POS tagging, from basic concepts to real-world challenges.\n",
        "\n",
        "### 📝 Reflection Questions (Answer in the cell below):\n",
        "\n",
        "1. **Tool Comparison**: Based on your experience, when would you choose NLTK vs SpaCy? Consider factors like ease of use, accuracy, speed, and application type.\n",
        "\n",
        "Based off of my experience, I would use NLTk when needing to conduct a school project or produce small protoypes. Now, if I am doing something far more advanced in regards to tech, then I would use SpaCy. Both have their pros and cons, but each project needs to be looked into before deciding which to use.\n",
        "\n",
        "2. **Real-World Applications**: Describe a specific business problem where POS tagging would be valuable. How would you implement it?\n",
        "\n",
        "\n",
        "POS tagging would help a lot in my current field. As of right now, I am needing to calculate wire usage daily based off of paper pull sheets. If I could use POS tagging to filter out key numbers/words from the papers that are scanned into a pdf, then it would cut my time from two hours into 30 minutes. It would allow me to save the hassle of looking through every piece of paper and separating by hand. I think about it daily already and how I want to be able to create something that can get that task completed accurately.  \n",
        "\n",
        "3. **Limitations and Solutions**: What are the biggest limitations you discovered? How might you work around them?\n",
        "\n",
        "As mentioned before, ambigious words are a big issues when it comes to tagging. Thankfully, there is a solution! By using context-aware models, it is able to disambiguate the word.\n",
        "\n",
        "Another limitation is the use of informal words such as slang or trendy lingo. The solution is to keep updating the training data to stay in touch with what is new.\n",
        "\n",
        "\n",
        "4. **Future Learning**: What aspects of POS tagging would you like to explore further? (Neural approaches, custom training, domain adaptation, etc.)\n",
        "\n",
        "After some research, I believe that I want to explore more about custom training. I enjoy the idea of being able to have it focused on one domain and works towards perfecting its function.\n",
        "\n",
        "\n",
        "\n",
        "5. **Integration**: How does POS tagging fit into larger NLP pipelines? What other NLP tasks might benefit from POS information?\n",
        "\n",
        "The foundation of NLP pipelines is indeed POS tagging. The models are able to learn the relationships between words and the defintions of said words. Some other tasks that would benefit from POS information would be information extraction and sentiment analysis."
      ]
    },
    {
      "cell_type": "markdown",
      "id": "b1c5480f",
      "metadata": {
        "id": "b1c5480f"
      },
      "source": [
        "\n",
        "## 🎯 Final Reflection and Submission\n",
        "\n",
        "Congratulations! You've completed a comprehensive exploration of POS tagging, from basic"
      ]
    },
    {
      "cell_type": "markdown",
      "metadata": {
        "id": "-p1f-6M2yHJz"
      },
      "source": [
        "\n",
        "\n",
        "### 📝 Reflection Questions:\n",
        "\n",
        "1. **Tool Comparison**: Based on your experience, when would you choose NLTK vs SpaCy? Consider factors like ease of use, accuracy, speed, and application type.\n",
        "\n",
        "Based off of my experience, I would use NLTk when needing to conduct a school project or produce small protoypes. Now, if I am doing something far more advanced in regards to tech, then I would use SpaCy. Both have their pros and cons, but each project needs to be looked into before deciding which to use.\n",
        "\n",
        "2. **Real-World Applications**: Describe a specific business problem where POS tagging would be valuable. How would you implement it?\n",
        "\n",
        "\n",
        "POS tagging would help a lot in my current field. As of right now, I am needing to calculate wire usage daily based off of paper pull sheets. If I could use POS tagging to filter out key numbers/words from the papers that are scanned into a pdf, then it would cut my time from two hours into 30 minutes. It would allow me to save the hassle of looking through every piece of paper and separating by hand. I think about it daily already and how I want to be able to create something that can get that task completed accurately.  \n",
        "\n",
        "3. **Limitations and Solutions**: What are the biggest limitations you discovered? How might you work around them?\n",
        "\n",
        "As mentioned before, ambigious words are a big issues when it comes to tagging. Thankfully, there is a solution! By using context-aware models, it is able to disambiguate the word.\n",
        "\n",
        "Another limitation is the use of informal words such as slang or trendy lingo. The solution is to keep updating the training data to stay in touch with what is new.\n",
        "\n",
        "\n",
        "4. **Future Learning**: What aspects of POS tagging would you like to explore further? (Neural approaches, custom training, domain adaptation, etc.)\n",
        "\n",
        "After some research, I believe that I want to explore more about custom training. I enjoy the idea of being able to have it focused on one domain and works towards perfecting its function.\n",
        "\n",
        "\n",
        "\n",
        "5. **Integration**: How does POS tagging fit into larger NLP pipelines? What other NLP tasks might benefit from POS information?\n",
        "\n",
        "The foundation of NLP pipelines is indeed POS tagging. The models are able to learn the relationships between words and the defintions of said words. Some other tasks that would benefit from POS information would be information extraction and sentiment analysis."
      ],
      "id": "-p1f-6M2yHJz"
    },
    {
      "cell_type": "markdown",
      "id": "e96f81e5",
      "metadata": {
        "id": "e96f81e5"
      },
      "source": [
        "\n",
        "---\n",
        "\n",
        "## 📤 Submission Checklist\n",
        "\n",
        "Before submitting your completed notebook, make sure you have:\n",
        "\n",
        "- [ ] ✅ Completed all TODO sections with working code\n",
        "- [ ] ✅ Answered all reflection questions thoughtfully\n",
        "- [ ] ✅ Created at least one meaningful visualization\n",
        "- [ ] ✅ Tested your code and fixed any errors\n",
        "- [ ] ✅ Added comments explaining your approach\n",
        "- [ ] ✅ Included insights from your analysis\n",
        "\n",
        "### 📋 Submission Instructions:\n",
        "1. **Save your notebook**: File → Save (or Ctrl+S)\n",
        "2. **Download**: File → Download → Download .ipynb\n",
        "3. **Submit**: Upload your completed notebook file to the course management system\n",
        "4. **Filename**: Use format: `L05_LastName_FirstName_ITAI2373.ipynb or pdf`  \n",
        "\n",
        "### 🏆 Grading Criteria:\n",
        "- **Code Completion (40%)**: All exercises completed with working code\n",
        "- **Analysis Quality (30%)**: Thoughtful interpretation of results\n",
        "- **Reflection Depth (20%)**: Insightful answers to reflection questions  \n",
        "- **Code Quality (10%)**: Clean, commented, well-organized code\n",
        "\n",
        "---\n",
        "\n",
        "## 🎉 Great Work!\n",
        "\n",
        "You've successfully explored the fascinating world of POS tagging! You now understand how computers parse human language and can apply these techniques to solve real-world problems.\n",
        "\n",
        "\n",
        "Keep exploring and happy coding! 🚀\n"
      ]
    }
  ],
  "metadata": {
    "colab": {
      "provenance": []
    },
    "language_info": {
      "name": "python"
    },
    "kernelspec": {
      "name": "python3",
      "display_name": "Python 3"
    }
  },
  "nbformat": 4,
  "nbformat_minor": 5
}